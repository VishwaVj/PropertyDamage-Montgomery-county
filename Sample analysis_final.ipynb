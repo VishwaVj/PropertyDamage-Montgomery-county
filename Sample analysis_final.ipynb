{
 "cells": [
  {
   "cell_type": "code",
   "execution_count": 11,
   "metadata": {},
   "outputs": [],
   "source": [
    "import numpy as np\n",
    "import pandas as pd\n",
    "from pandas import DataFrame,Series\n",
    "import matplotlib.pyplot as plt\n",
    "import seaborn as sns\n",
    "from datetime import datetime\n",
    "import scipy.stats as stats\n",
    "import warnings\n",
    "warnings.filterwarnings('ignore')\n",
    "from sklearn import metrics\n",
    "from sklearn.preprocessing import LabelEncoder"
   ]
  },
  {
   "cell_type": "code",
   "execution_count": 12,
   "metadata": {},
   "outputs": [],
   "source": [
    "pd.set_option('display.max_rows', 500)\n",
    "pd.set_option('display.max_columns', 500)"
   ]
  },
  {
   "cell_type": "code",
   "execution_count": 13,
   "metadata": {},
   "outputs": [],
   "source": [
    "df = pd.read_csv('Traffic_violations_sample.csv')"
   ]
  },
  {
   "cell_type": "code",
   "execution_count": 6,
   "metadata": {},
   "outputs": [
    {
     "data": {
      "text/plain": [
       "(158175, 35)"
      ]
     },
     "execution_count": 6,
     "metadata": {},
     "output_type": "execute_result"
    }
   ],
   "source": [
    "df.shape"
   ]
  },
  {
   "cell_type": "code",
   "execution_count": 7,
   "metadata": {
    "scrolled": true
   },
   "outputs": [
    {
     "data": {
      "text/html": [
       "<div>\n",
       "<style scoped>\n",
       "    .dataframe tbody tr th:only-of-type {\n",
       "        vertical-align: middle;\n",
       "    }\n",
       "\n",
       "    .dataframe tbody tr th {\n",
       "        vertical-align: top;\n",
       "    }\n",
       "\n",
       "    .dataframe thead th {\n",
       "        text-align: right;\n",
       "    }\n",
       "</style>\n",
       "<table border=\"1\" class=\"dataframe\">\n",
       "  <thead>\n",
       "    <tr style=\"text-align: right;\">\n",
       "      <th></th>\n",
       "      <th>Time Of Stop</th>\n",
       "      <th>Agency</th>\n",
       "      <th>SubAgency</th>\n",
       "      <th>Description</th>\n",
       "      <th>Location</th>\n",
       "      <th>Latitude</th>\n",
       "      <th>Longitude</th>\n",
       "      <th>Accident</th>\n",
       "      <th>Belts</th>\n",
       "      <th>Personal Injury</th>\n",
       "      <th>Property Damage</th>\n",
       "      <th>Fatal</th>\n",
       "      <th>Commercial License</th>\n",
       "      <th>HAZMAT</th>\n",
       "      <th>Commercial Vehicle</th>\n",
       "      <th>Alcohol</th>\n",
       "      <th>Work Zone</th>\n",
       "      <th>State</th>\n",
       "      <th>VehicleType</th>\n",
       "      <th>Year</th>\n",
       "      <th>Make</th>\n",
       "      <th>Model</th>\n",
       "      <th>Color</th>\n",
       "      <th>Violation Type</th>\n",
       "      <th>Charge</th>\n",
       "      <th>Article</th>\n",
       "      <th>Contributed To Accident</th>\n",
       "      <th>Race</th>\n",
       "      <th>Gender</th>\n",
       "      <th>Driver City</th>\n",
       "      <th>Driver State</th>\n",
       "      <th>DL State</th>\n",
       "      <th>Arrest Type</th>\n",
       "      <th>Geolocation</th>\n",
       "      <th>Date Of Stop_format</th>\n",
       "    </tr>\n",
       "  </thead>\n",
       "  <tbody>\n",
       "    <tr>\n",
       "      <th>0</th>\n",
       "      <td>21:53:00</td>\n",
       "      <td>MCP</td>\n",
       "      <td>6th District, Gaithersburg / Montgomery Village</td>\n",
       "      <td>PERSON DRIVING MOTOR VEHICLE ON HIGHWAY OR PUB...</td>\n",
       "      <td>WOODFIELD RD @ SNOUFFER SCHOOL RD</td>\n",
       "      <td>39.159715</td>\n",
       "      <td>-77.159718</td>\n",
       "      <td>No</td>\n",
       "      <td>No</td>\n",
       "      <td>No</td>\n",
       "      <td>No</td>\n",
       "      <td>No</td>\n",
       "      <td>No</td>\n",
       "      <td>No</td>\n",
       "      <td>No</td>\n",
       "      <td>No</td>\n",
       "      <td>No</td>\n",
       "      <td>MD</td>\n",
       "      <td>02 - Automobile</td>\n",
       "      <td>2000.0</td>\n",
       "      <td>FORD</td>\n",
       "      <td>TK</td>\n",
       "      <td>WHITE</td>\n",
       "      <td>Citation</td>\n",
       "      <td>16-303(g)</td>\n",
       "      <td>Transportation Article</td>\n",
       "      <td>False</td>\n",
       "      <td>BLACK</td>\n",
       "      <td>F</td>\n",
       "      <td>GERMANTOWN</td>\n",
       "      <td>MD</td>\n",
       "      <td>MD</td>\n",
       "      <td>A - Marked Patrol</td>\n",
       "      <td>(39.1597147833333, -77.1597180833333)</td>\n",
       "      <td>2012-07-26</td>\n",
       "    </tr>\n",
       "    <tr>\n",
       "      <th>1</th>\n",
       "      <td>16:22:00</td>\n",
       "      <td>MCP</td>\n",
       "      <td>3rd District, Silver Spring</td>\n",
       "      <td>DRIVER FAILURE TO OBEY PROPERLY PLACED TRAFFIC...</td>\n",
       "      <td>WB FLOWER AVE @ PINEY BRANCH RD</td>\n",
       "      <td>38.998877</td>\n",
       "      <td>-77.003820</td>\n",
       "      <td>No</td>\n",
       "      <td>No</td>\n",
       "      <td>No</td>\n",
       "      <td>No</td>\n",
       "      <td>No</td>\n",
       "      <td>No</td>\n",
       "      <td>No</td>\n",
       "      <td>No</td>\n",
       "      <td>No</td>\n",
       "      <td>No</td>\n",
       "      <td>MD</td>\n",
       "      <td>02 - Automobile</td>\n",
       "      <td>2006.0</td>\n",
       "      <td>FORD</td>\n",
       "      <td>CROWN VICTORIA</td>\n",
       "      <td>BLUE, LIGHT</td>\n",
       "      <td>Warning</td>\n",
       "      <td>21-201(a1)</td>\n",
       "      <td>Transportation Article</td>\n",
       "      <td>False</td>\n",
       "      <td>BLACK</td>\n",
       "      <td>M</td>\n",
       "      <td>WASHINGTON</td>\n",
       "      <td>DC</td>\n",
       "      <td>DC</td>\n",
       "      <td>A - Marked Patrol</td>\n",
       "      <td>(38.9988771833333, -77.00381955)</td>\n",
       "      <td>2012-01-09</td>\n",
       "    </tr>\n",
       "    <tr>\n",
       "      <th>2</th>\n",
       "      <td>12:04:00</td>\n",
       "      <td>MCP</td>\n",
       "      <td>5th District, Germantown</td>\n",
       "      <td>EXCEEDING MAXIMUM SPEED: 49 MPH IN A POSTED 40...</td>\n",
       "      <td>FREDERICK RD @ PLUMMER DR</td>\n",
       "      <td>39.171525</td>\n",
       "      <td>-77.236339</td>\n",
       "      <td>No</td>\n",
       "      <td>No</td>\n",
       "      <td>No</td>\n",
       "      <td>No</td>\n",
       "      <td>No</td>\n",
       "      <td>No</td>\n",
       "      <td>No</td>\n",
       "      <td>No</td>\n",
       "      <td>No</td>\n",
       "      <td>No</td>\n",
       "      <td>MD</td>\n",
       "      <td>02 - Automobile</td>\n",
       "      <td>2004.0</td>\n",
       "      <td>TOYT</td>\n",
       "      <td>CAMRY</td>\n",
       "      <td>BLUE</td>\n",
       "      <td>Citation</td>\n",
       "      <td>21-801.1</td>\n",
       "      <td>Transportation Article</td>\n",
       "      <td>False</td>\n",
       "      <td>WHITE</td>\n",
       "      <td>F</td>\n",
       "      <td>GAITHERSBURG</td>\n",
       "      <td>MD</td>\n",
       "      <td>MD</td>\n",
       "      <td>Q - Marked Laser</td>\n",
       "      <td>(39.1715247, -77.2363386833333)</td>\n",
       "      <td>2012-02-14</td>\n",
       "    </tr>\n",
       "    <tr>\n",
       "      <th>3</th>\n",
       "      <td>20:05:00</td>\n",
       "      <td>MCP</td>\n",
       "      <td>3rd District, Silver Spring</td>\n",
       "      <td>DRIVER FAILURE TO OBEY PROPERLY PLACED TRAFFIC...</td>\n",
       "      <td>COLESVILLE RD/WAYNE AVE</td>\n",
       "      <td>38.993956</td>\n",
       "      <td>-77.029728</td>\n",
       "      <td>No</td>\n",
       "      <td>No</td>\n",
       "      <td>No</td>\n",
       "      <td>No</td>\n",
       "      <td>No</td>\n",
       "      <td>No</td>\n",
       "      <td>No</td>\n",
       "      <td>No</td>\n",
       "      <td>No</td>\n",
       "      <td>No</td>\n",
       "      <td>MD</td>\n",
       "      <td>05 - Light Duty Truck</td>\n",
       "      <td>2001.0</td>\n",
       "      <td>HOND</td>\n",
       "      <td>TK</td>\n",
       "      <td>BLUE</td>\n",
       "      <td>Warning</td>\n",
       "      <td>21-201(a1)</td>\n",
       "      <td>Transportation Article</td>\n",
       "      <td>False</td>\n",
       "      <td>BLACK</td>\n",
       "      <td>F</td>\n",
       "      <td>SILVER SPRING</td>\n",
       "      <td>MD</td>\n",
       "      <td>MD</td>\n",
       "      <td>A - Marked Patrol</td>\n",
       "      <td>(38.9939555333333, -77.0297278666667)</td>\n",
       "      <td>2012-08-07</td>\n",
       "    </tr>\n",
       "    <tr>\n",
       "      <th>4</th>\n",
       "      <td>14:17:00</td>\n",
       "      <td>MCP</td>\n",
       "      <td>2nd District, Bethesda</td>\n",
       "      <td>DRIVING MOTOR VEH. WHILE LIC. SUSPENDED UNDER ...</td>\n",
       "      <td>270 N/B /MONTROSE RD</td>\n",
       "      <td>39.247944</td>\n",
       "      <td>-77.233987</td>\n",
       "      <td>No</td>\n",
       "      <td>No</td>\n",
       "      <td>No</td>\n",
       "      <td>No</td>\n",
       "      <td>No</td>\n",
       "      <td>No</td>\n",
       "      <td>No</td>\n",
       "      <td>No</td>\n",
       "      <td>No</td>\n",
       "      <td>No</td>\n",
       "      <td>MD</td>\n",
       "      <td>28 - Other</td>\n",
       "      <td>2002.0</td>\n",
       "      <td>CHEVY</td>\n",
       "      <td>TAHOE</td>\n",
       "      <td>BLUE</td>\n",
       "      <td>Citation</td>\n",
       "      <td>16-303(h)</td>\n",
       "      <td>Transportation Article</td>\n",
       "      <td>False</td>\n",
       "      <td>BLACK</td>\n",
       "      <td>M</td>\n",
       "      <td>GAITHERSBURG</td>\n",
       "      <td>MD</td>\n",
       "      <td>MD</td>\n",
       "      <td>A - Marked Patrol</td>\n",
       "      <td>(39.24794435, -77.2339871833333)</td>\n",
       "      <td>2012-09-21</td>\n",
       "    </tr>\n",
       "  </tbody>\n",
       "</table>\n",
       "</div>"
      ],
      "text/plain": [
       "  Time Of Stop Agency                                        SubAgency  \\\n",
       "0     21:53:00    MCP  6th District, Gaithersburg / Montgomery Village   \n",
       "1     16:22:00    MCP                      3rd District, Silver Spring   \n",
       "2     12:04:00    MCP                         5th District, Germantown   \n",
       "3     20:05:00    MCP                      3rd District, Silver Spring   \n",
       "4     14:17:00    MCP                           2nd District, Bethesda   \n",
       "\n",
       "                                         Description  \\\n",
       "0  PERSON DRIVING MOTOR VEHICLE ON HIGHWAY OR PUB...   \n",
       "1  DRIVER FAILURE TO OBEY PROPERLY PLACED TRAFFIC...   \n",
       "2  EXCEEDING MAXIMUM SPEED: 49 MPH IN A POSTED 40...   \n",
       "3  DRIVER FAILURE TO OBEY PROPERLY PLACED TRAFFIC...   \n",
       "4  DRIVING MOTOR VEH. WHILE LIC. SUSPENDED UNDER ...   \n",
       "\n",
       "                            Location   Latitude  Longitude Accident Belts  \\\n",
       "0  WOODFIELD RD @ SNOUFFER SCHOOL RD  39.159715 -77.159718       No    No   \n",
       "1    WB FLOWER AVE @ PINEY BRANCH RD  38.998877 -77.003820       No    No   \n",
       "2          FREDERICK RD @ PLUMMER DR  39.171525 -77.236339       No    No   \n",
       "3            COLESVILLE RD/WAYNE AVE  38.993956 -77.029728       No    No   \n",
       "4               270 N/B /MONTROSE RD  39.247944 -77.233987       No    No   \n",
       "\n",
       "  Personal Injury Property Damage Fatal Commercial License HAZMAT  \\\n",
       "0              No              No    No                 No     No   \n",
       "1              No              No    No                 No     No   \n",
       "2              No              No    No                 No     No   \n",
       "3              No              No    No                 No     No   \n",
       "4              No              No    No                 No     No   \n",
       "\n",
       "  Commercial Vehicle Alcohol Work Zone State            VehicleType    Year  \\\n",
       "0                 No      No        No    MD        02 - Automobile  2000.0   \n",
       "1                 No      No        No    MD        02 - Automobile  2006.0   \n",
       "2                 No      No        No    MD        02 - Automobile  2004.0   \n",
       "3                 No      No        No    MD  05 - Light Duty Truck  2001.0   \n",
       "4                 No      No        No    MD             28 - Other  2002.0   \n",
       "\n",
       "    Make           Model        Color Violation Type      Charge  \\\n",
       "0   FORD              TK        WHITE       Citation   16-303(g)   \n",
       "1   FORD  CROWN VICTORIA  BLUE, LIGHT        Warning  21-201(a1)   \n",
       "2   TOYT           CAMRY         BLUE       Citation    21-801.1   \n",
       "3   HOND              TK         BLUE        Warning  21-201(a1)   \n",
       "4  CHEVY           TAHOE         BLUE       Citation   16-303(h)   \n",
       "\n",
       "                  Article  Contributed To Accident   Race Gender  \\\n",
       "0  Transportation Article                    False  BLACK      F   \n",
       "1  Transportation Article                    False  BLACK      M   \n",
       "2  Transportation Article                    False  WHITE      F   \n",
       "3  Transportation Article                    False  BLACK      F   \n",
       "4  Transportation Article                    False  BLACK      M   \n",
       "\n",
       "     Driver City Driver State DL State        Arrest Type  \\\n",
       "0     GERMANTOWN           MD       MD  A - Marked Patrol   \n",
       "1     WASHINGTON           DC       DC  A - Marked Patrol   \n",
       "2   GAITHERSBURG           MD       MD   Q - Marked Laser   \n",
       "3  SILVER SPRING           MD       MD  A - Marked Patrol   \n",
       "4   GAITHERSBURG           MD       MD  A - Marked Patrol   \n",
       "\n",
       "                             Geolocation Date Of Stop_format  \n",
       "0  (39.1597147833333, -77.1597180833333)          2012-07-26  \n",
       "1       (38.9988771833333, -77.00381955)          2012-01-09  \n",
       "2        (39.1715247, -77.2363386833333)          2012-02-14  \n",
       "3  (38.9939555333333, -77.0297278666667)          2012-08-07  \n",
       "4       (39.24794435, -77.2339871833333)          2012-09-21  "
      ]
     },
     "execution_count": 7,
     "metadata": {},
     "output_type": "execute_result"
    }
   ],
   "source": [
    "df.head()"
   ]
  },
  {
   "cell_type": "markdown",
   "metadata": {},
   "source": [
    "### Data Info Table"
   ]
  },
  {
   "cell_type": "code",
   "execution_count": 9,
   "metadata": {
    "scrolled": true
   },
   "outputs": [
    {
     "data": {
      "text/html": [
       "<div>\n",
       "<style scoped>\n",
       "    .dataframe tbody tr th:only-of-type {\n",
       "        vertical-align: middle;\n",
       "    }\n",
       "\n",
       "    .dataframe tbody tr th {\n",
       "        vertical-align: top;\n",
       "    }\n",
       "\n",
       "    .dataframe thead th {\n",
       "        text-align: right;\n",
       "    }\n",
       "</style>\n",
       "<table border=\"1\" class=\"dataframe\">\n",
       "  <thead>\n",
       "    <tr style=\"text-align: right;\">\n",
       "      <th></th>\n",
       "      <th>column type</th>\n",
       "      <th>Unique values</th>\n",
       "      <th>null values</th>\n",
       "      <th>null values percent</th>\n",
       "    </tr>\n",
       "  </thead>\n",
       "  <tbody>\n",
       "    <tr>\n",
       "      <th>Time Of Stop</th>\n",
       "      <td>object</td>\n",
       "      <td>1440</td>\n",
       "      <td>0</td>\n",
       "      <td>0</td>\n",
       "    </tr>\n",
       "    <tr>\n",
       "      <th>Agency</th>\n",
       "      <td>object</td>\n",
       "      <td>1</td>\n",
       "      <td>0</td>\n",
       "      <td>0</td>\n",
       "    </tr>\n",
       "    <tr>\n",
       "      <th>SubAgency</th>\n",
       "      <td>object</td>\n",
       "      <td>8</td>\n",
       "      <td>0</td>\n",
       "      <td>0</td>\n",
       "    </tr>\n",
       "    <tr>\n",
       "      <th>Description</th>\n",
       "      <td>object</td>\n",
       "      <td>3911</td>\n",
       "      <td>0</td>\n",
       "      <td>0</td>\n",
       "    </tr>\n",
       "    <tr>\n",
       "      <th>Location</th>\n",
       "      <td>object</td>\n",
       "      <td>67021</td>\n",
       "      <td>0</td>\n",
       "      <td>0</td>\n",
       "    </tr>\n",
       "    <tr>\n",
       "      <th>Latitude</th>\n",
       "      <td>float64</td>\n",
       "      <td>94237</td>\n",
       "      <td>0</td>\n",
       "      <td>0</td>\n",
       "    </tr>\n",
       "    <tr>\n",
       "      <th>Longitude</th>\n",
       "      <td>float64</td>\n",
       "      <td>100598</td>\n",
       "      <td>0</td>\n",
       "      <td>0</td>\n",
       "    </tr>\n",
       "    <tr>\n",
       "      <th>Accident</th>\n",
       "      <td>object</td>\n",
       "      <td>2</td>\n",
       "      <td>0</td>\n",
       "      <td>0</td>\n",
       "    </tr>\n",
       "    <tr>\n",
       "      <th>Belts</th>\n",
       "      <td>object</td>\n",
       "      <td>2</td>\n",
       "      <td>0</td>\n",
       "      <td>0</td>\n",
       "    </tr>\n",
       "    <tr>\n",
       "      <th>Personal Injury</th>\n",
       "      <td>object</td>\n",
       "      <td>2</td>\n",
       "      <td>0</td>\n",
       "      <td>0</td>\n",
       "    </tr>\n",
       "    <tr>\n",
       "      <th>Property Damage</th>\n",
       "      <td>object</td>\n",
       "      <td>2</td>\n",
       "      <td>0</td>\n",
       "      <td>0</td>\n",
       "    </tr>\n",
       "    <tr>\n",
       "      <th>Fatal</th>\n",
       "      <td>object</td>\n",
       "      <td>2</td>\n",
       "      <td>0</td>\n",
       "      <td>0</td>\n",
       "    </tr>\n",
       "    <tr>\n",
       "      <th>Commercial License</th>\n",
       "      <td>object</td>\n",
       "      <td>2</td>\n",
       "      <td>0</td>\n",
       "      <td>0</td>\n",
       "    </tr>\n",
       "    <tr>\n",
       "      <th>HAZMAT</th>\n",
       "      <td>object</td>\n",
       "      <td>2</td>\n",
       "      <td>0</td>\n",
       "      <td>0</td>\n",
       "    </tr>\n",
       "    <tr>\n",
       "      <th>Commercial Vehicle</th>\n",
       "      <td>object</td>\n",
       "      <td>2</td>\n",
       "      <td>0</td>\n",
       "      <td>0</td>\n",
       "    </tr>\n",
       "    <tr>\n",
       "      <th>Alcohol</th>\n",
       "      <td>object</td>\n",
       "      <td>2</td>\n",
       "      <td>0</td>\n",
       "      <td>0</td>\n",
       "    </tr>\n",
       "    <tr>\n",
       "      <th>Work Zone</th>\n",
       "      <td>object</td>\n",
       "      <td>2</td>\n",
       "      <td>0</td>\n",
       "      <td>0</td>\n",
       "    </tr>\n",
       "    <tr>\n",
       "      <th>State</th>\n",
       "      <td>object</td>\n",
       "      <td>63</td>\n",
       "      <td>4</td>\n",
       "      <td>0.00252884</td>\n",
       "    </tr>\n",
       "    <tr>\n",
       "      <th>VehicleType</th>\n",
       "      <td>object</td>\n",
       "      <td>28</td>\n",
       "      <td>0</td>\n",
       "      <td>0</td>\n",
       "    </tr>\n",
       "    <tr>\n",
       "      <th>Year</th>\n",
       "      <td>float64</td>\n",
       "      <td>143</td>\n",
       "      <td>999</td>\n",
       "      <td>0.631579</td>\n",
       "    </tr>\n",
       "    <tr>\n",
       "      <th>Make</th>\n",
       "      <td>object</td>\n",
       "      <td>1446</td>\n",
       "      <td>6</td>\n",
       "      <td>0.00379327</td>\n",
       "    </tr>\n",
       "    <tr>\n",
       "      <th>Model</th>\n",
       "      <td>object</td>\n",
       "      <td>6446</td>\n",
       "      <td>19</td>\n",
       "      <td>0.012012</td>\n",
       "    </tr>\n",
       "    <tr>\n",
       "      <th>Color</th>\n",
       "      <td>object</td>\n",
       "      <td>26</td>\n",
       "      <td>1875</td>\n",
       "      <td>1.1854</td>\n",
       "    </tr>\n",
       "    <tr>\n",
       "      <th>Violation Type</th>\n",
       "      <td>object</td>\n",
       "      <td>4</td>\n",
       "      <td>0</td>\n",
       "      <td>0</td>\n",
       "    </tr>\n",
       "    <tr>\n",
       "      <th>Charge</th>\n",
       "      <td>object</td>\n",
       "      <td>746</td>\n",
       "      <td>0</td>\n",
       "      <td>0</td>\n",
       "    </tr>\n",
       "    <tr>\n",
       "      <th>Article</th>\n",
       "      <td>object</td>\n",
       "      <td>4</td>\n",
       "      <td>7705</td>\n",
       "      <td>4.87119</td>\n",
       "    </tr>\n",
       "    <tr>\n",
       "      <th>Contributed To Accident</th>\n",
       "      <td>bool</td>\n",
       "      <td>2</td>\n",
       "      <td>0</td>\n",
       "      <td>0</td>\n",
       "    </tr>\n",
       "    <tr>\n",
       "      <th>Race</th>\n",
       "      <td>object</td>\n",
       "      <td>6</td>\n",
       "      <td>0</td>\n",
       "      <td>0</td>\n",
       "    </tr>\n",
       "    <tr>\n",
       "      <th>Gender</th>\n",
       "      <td>object</td>\n",
       "      <td>3</td>\n",
       "      <td>0</td>\n",
       "      <td>0</td>\n",
       "    </tr>\n",
       "    <tr>\n",
       "      <th>Driver City</th>\n",
       "      <td>object</td>\n",
       "      <td>3030</td>\n",
       "      <td>44</td>\n",
       "      <td>0.0278173</td>\n",
       "    </tr>\n",
       "    <tr>\n",
       "      <th>Driver State</th>\n",
       "      <td>object</td>\n",
       "      <td>61</td>\n",
       "      <td>2</td>\n",
       "      <td>0.00126442</td>\n",
       "    </tr>\n",
       "    <tr>\n",
       "      <th>DL State</th>\n",
       "      <td>object</td>\n",
       "      <td>64</td>\n",
       "      <td>118</td>\n",
       "      <td>0.0746009</td>\n",
       "    </tr>\n",
       "    <tr>\n",
       "      <th>Arrest Type</th>\n",
       "      <td>object</td>\n",
       "      <td>19</td>\n",
       "      <td>0</td>\n",
       "      <td>0</td>\n",
       "    </tr>\n",
       "    <tr>\n",
       "      <th>Geolocation</th>\n",
       "      <td>object</td>\n",
       "      <td>131054</td>\n",
       "      <td>0</td>\n",
       "      <td>0</td>\n",
       "    </tr>\n",
       "    <tr>\n",
       "      <th>Date Of Stop_format</th>\n",
       "      <td>object</td>\n",
       "      <td>2814</td>\n",
       "      <td>0</td>\n",
       "      <td>0</td>\n",
       "    </tr>\n",
       "  </tbody>\n",
       "</table>\n",
       "</div>"
      ],
      "text/plain": [
       "                        column type Unique values null values  \\\n",
       "Time Of Stop                 object          1440           0   \n",
       "Agency                       object             1           0   \n",
       "SubAgency                    object             8           0   \n",
       "Description                  object          3911           0   \n",
       "Location                     object         67021           0   \n",
       "Latitude                    float64         94237           0   \n",
       "Longitude                   float64        100598           0   \n",
       "Accident                     object             2           0   \n",
       "Belts                        object             2           0   \n",
       "Personal Injury              object             2           0   \n",
       "Property Damage              object             2           0   \n",
       "Fatal                        object             2           0   \n",
       "Commercial License           object             2           0   \n",
       "HAZMAT                       object             2           0   \n",
       "Commercial Vehicle           object             2           0   \n",
       "Alcohol                      object             2           0   \n",
       "Work Zone                    object             2           0   \n",
       "State                        object            63           4   \n",
       "VehicleType                  object            28           0   \n",
       "Year                        float64           143         999   \n",
       "Make                         object          1446           6   \n",
       "Model                        object          6446          19   \n",
       "Color                        object            26        1875   \n",
       "Violation Type               object             4           0   \n",
       "Charge                       object           746           0   \n",
       "Article                      object             4        7705   \n",
       "Contributed To Accident        bool             2           0   \n",
       "Race                         object             6           0   \n",
       "Gender                       object             3           0   \n",
       "Driver City                  object          3030          44   \n",
       "Driver State                 object            61           2   \n",
       "DL State                     object            64         118   \n",
       "Arrest Type                  object            19           0   \n",
       "Geolocation                  object        131054           0   \n",
       "Date Of Stop_format          object          2814           0   \n",
       "\n",
       "                        null values percent  \n",
       "Time Of Stop                              0  \n",
       "Agency                                    0  \n",
       "SubAgency                                 0  \n",
       "Description                               0  \n",
       "Location                                  0  \n",
       "Latitude                                  0  \n",
       "Longitude                                 0  \n",
       "Accident                                  0  \n",
       "Belts                                     0  \n",
       "Personal Injury                           0  \n",
       "Property Damage                           0  \n",
       "Fatal                                     0  \n",
       "Commercial License                        0  \n",
       "HAZMAT                                    0  \n",
       "Commercial Vehicle                        0  \n",
       "Alcohol                                   0  \n",
       "Work Zone                                 0  \n",
       "State                            0.00252884  \n",
       "VehicleType                               0  \n",
       "Year                               0.631579  \n",
       "Make                             0.00379327  \n",
       "Model                              0.012012  \n",
       "Color                                1.1854  \n",
       "Violation Type                            0  \n",
       "Charge                                    0  \n",
       "Article                             4.87119  \n",
       "Contributed To Accident                   0  \n",
       "Race                                      0  \n",
       "Gender                                    0  \n",
       "Driver City                       0.0278173  \n",
       "Driver State                     0.00126442  \n",
       "DL State                          0.0746009  \n",
       "Arrest Type                               0  \n",
       "Geolocation                               0  \n",
       "Date Of Stop_format                       0  "
      ]
     },
     "execution_count": 9,
     "metadata": {},
     "output_type": "execute_result"
    }
   ],
   "source": [
    "tab_info=pd.DataFrame(df.dtypes).T.rename(index={0:'column type'})\n",
    "tab_info=tab_info.append(pd.DataFrame(df.nunique()).T.rename(index={0:'Unique values'}))\n",
    "tab_info=tab_info.append(pd.DataFrame(df.isnull().sum()).T.rename(index={0:'null values'}))\n",
    "tab_info=tab_info.append(pd.DataFrame(df.isnull().sum()/df.shape[0]*100)\n",
    "                         .T.rename(index={0:'null values percent'}))\n",
    "tab_info.T"
   ]
  },
  {
   "cell_type": "code",
   "execution_count": 91,
   "metadata": {},
   "outputs": [
    {
     "data": {
      "image/png": "[encoded data removed]",
      "text/plain": [
       "<Figure size 360x360 with 1 Axes>"
      ]
     },
     "metadata": {},
     "output_type": "display_data"
    }
   ],
   "source": [
    "## Null Value percentage\n",
    "null_per=pd.Series({'Not Null %':(100-tab_info.loc['null values percent'].sum()),'Null value %':tab_info.loc['null values percent'].sum()})\n",
    "ax = null_per.plot.pie(autopct='%.1f%%', labels = ['Non Null Values', 'Nul Values'],figsize =(5,5), fontsize = 12 )\n",
    "ax.set_title('Null Value Proportion', fontsize = 12)\n",
    "plt.show()"
   ]
  },
  {
   "cell_type": "markdown",
   "metadata": {},
   "source": [
    "## EDA is Performed in Tableau "
   ]
  },
  {
   "cell_type": "code",
   "execution_count": null,
   "metadata": {},
   "outputs": [],
   "source": [
    "## Droping the Unique Features and multi categorical features"
   ]
  },
  {
   "cell_type": "code",
   "execution_count": 14,
   "metadata": {},
   "outputs": [],
   "source": [
    "data=df.drop(['Agency','Description','Location','Latitude','Longitude','State','Year','Make','Model','Color','Charge',\n",
    "              'Article','Location','Driver City','Driver State','DL State','Arrest Type','Geolocation'],1)"
   ]
  },
  {
   "cell_type": "code",
   "execution_count": 15,
   "metadata": {},
   "outputs": [
    {
     "data": {
      "text/html": [
       "<div>\n",
       "<style scoped>\n",
       "    .dataframe tbody tr th:only-of-type {\n",
       "        vertical-align: middle;\n",
       "    }\n",
       "\n",
       "    .dataframe tbody tr th {\n",
       "        vertical-align: top;\n",
       "    }\n",
       "\n",
       "    .dataframe thead th {\n",
       "        text-align: right;\n",
       "    }\n",
       "</style>\n",
       "<table border=\"1\" class=\"dataframe\">\n",
       "  <thead>\n",
       "    <tr style=\"text-align: right;\">\n",
       "      <th></th>\n",
       "      <th>Time Of Stop</th>\n",
       "      <th>SubAgency</th>\n",
       "      <th>Accident</th>\n",
       "      <th>Belts</th>\n",
       "      <th>Personal Injury</th>\n",
       "      <th>Property Damage</th>\n",
       "      <th>Fatal</th>\n",
       "      <th>Commercial License</th>\n",
       "      <th>HAZMAT</th>\n",
       "      <th>Commercial Vehicle</th>\n",
       "      <th>Alcohol</th>\n",
       "      <th>Work Zone</th>\n",
       "      <th>VehicleType</th>\n",
       "      <th>Violation Type</th>\n",
       "      <th>Contributed To Accident</th>\n",
       "      <th>Race</th>\n",
       "      <th>Gender</th>\n",
       "      <th>Date Of Stop_format</th>\n",
       "    </tr>\n",
       "  </thead>\n",
       "  <tbody>\n",
       "    <tr>\n",
       "      <th>0</th>\n",
       "      <td>21:53:00</td>\n",
       "      <td>6th District, Gaithersburg / Montgomery Village</td>\n",
       "      <td>No</td>\n",
       "      <td>No</td>\n",
       "      <td>No</td>\n",
       "      <td>No</td>\n",
       "      <td>No</td>\n",
       "      <td>No</td>\n",
       "      <td>No</td>\n",
       "      <td>No</td>\n",
       "      <td>No</td>\n",
       "      <td>No</td>\n",
       "      <td>02 - Automobile</td>\n",
       "      <td>Citation</td>\n",
       "      <td>False</td>\n",
       "      <td>BLACK</td>\n",
       "      <td>F</td>\n",
       "      <td>2012-07-26</td>\n",
       "    </tr>\n",
       "    <tr>\n",
       "      <th>1</th>\n",
       "      <td>16:22:00</td>\n",
       "      <td>3rd District, Silver Spring</td>\n",
       "      <td>No</td>\n",
       "      <td>No</td>\n",
       "      <td>No</td>\n",
       "      <td>No</td>\n",
       "      <td>No</td>\n",
       "      <td>No</td>\n",
       "      <td>No</td>\n",
       "      <td>No</td>\n",
       "      <td>No</td>\n",
       "      <td>No</td>\n",
       "      <td>02 - Automobile</td>\n",
       "      <td>Warning</td>\n",
       "      <td>False</td>\n",
       "      <td>BLACK</td>\n",
       "      <td>M</td>\n",
       "      <td>2012-01-09</td>\n",
       "    </tr>\n",
       "    <tr>\n",
       "      <th>2</th>\n",
       "      <td>12:04:00</td>\n",
       "      <td>5th District, Germantown</td>\n",
       "      <td>No</td>\n",
       "      <td>No</td>\n",
       "      <td>No</td>\n",
       "      <td>No</td>\n",
       "      <td>No</td>\n",
       "      <td>No</td>\n",
       "      <td>No</td>\n",
       "      <td>No</td>\n",
       "      <td>No</td>\n",
       "      <td>No</td>\n",
       "      <td>02 - Automobile</td>\n",
       "      <td>Citation</td>\n",
       "      <td>False</td>\n",
       "      <td>WHITE</td>\n",
       "      <td>F</td>\n",
       "      <td>2012-02-14</td>\n",
       "    </tr>\n",
       "    <tr>\n",
       "      <th>3</th>\n",
       "      <td>20:05:00</td>\n",
       "      <td>3rd District, Silver Spring</td>\n",
       "      <td>No</td>\n",
       "      <td>No</td>\n",
       "      <td>No</td>\n",
       "      <td>No</td>\n",
       "      <td>No</td>\n",
       "      <td>No</td>\n",
       "      <td>No</td>\n",
       "      <td>No</td>\n",
       "      <td>No</td>\n",
       "      <td>No</td>\n",
       "      <td>05 - Light Duty Truck</td>\n",
       "      <td>Warning</td>\n",
       "      <td>False</td>\n",
       "      <td>BLACK</td>\n",
       "      <td>F</td>\n",
       "      <td>2012-08-07</td>\n",
       "    </tr>\n",
       "    <tr>\n",
       "      <th>4</th>\n",
       "      <td>14:17:00</td>\n",
       "      <td>2nd District, Bethesda</td>\n",
       "      <td>No</td>\n",
       "      <td>No</td>\n",
       "      <td>No</td>\n",
       "      <td>No</td>\n",
       "      <td>No</td>\n",
       "      <td>No</td>\n",
       "      <td>No</td>\n",
       "      <td>No</td>\n",
       "      <td>No</td>\n",
       "      <td>No</td>\n",
       "      <td>28 - Other</td>\n",
       "      <td>Citation</td>\n",
       "      <td>False</td>\n",
       "      <td>BLACK</td>\n",
       "      <td>M</td>\n",
       "      <td>2012-09-21</td>\n",
       "    </tr>\n",
       "  </tbody>\n",
       "</table>\n",
       "</div>"
      ],
      "text/plain": [
       "  Time Of Stop                                        SubAgency Accident  \\\n",
       "0     21:53:00  6th District, Gaithersburg / Montgomery Village       No   \n",
       "1     16:22:00                      3rd District, Silver Spring       No   \n",
       "2     12:04:00                         5th District, Germantown       No   \n",
       "3     20:05:00                      3rd District, Silver Spring       No   \n",
       "4     14:17:00                           2nd District, Bethesda       No   \n",
       "\n",
       "  Belts Personal Injury Property Damage Fatal Commercial License HAZMAT  \\\n",
       "0    No              No              No    No                 No     No   \n",
       "1    No              No              No    No                 No     No   \n",
       "2    No              No              No    No                 No     No   \n",
       "3    No              No              No    No                 No     No   \n",
       "4    No              No              No    No                 No     No   \n",
       "\n",
       "  Commercial Vehicle Alcohol Work Zone            VehicleType Violation Type  \\\n",
       "0                 No      No        No        02 - Automobile       Citation   \n",
       "1                 No      No        No        02 - Automobile        Warning   \n",
       "2                 No      No        No        02 - Automobile       Citation   \n",
       "3                 No      No        No  05 - Light Duty Truck        Warning   \n",
       "4                 No      No        No             28 - Other       Citation   \n",
       "\n",
       "   Contributed To Accident   Race Gender Date Of Stop_format  \n",
       "0                    False  BLACK      F          2012-07-26  \n",
       "1                    False  BLACK      M          2012-01-09  \n",
       "2                    False  WHITE      F          2012-02-14  \n",
       "3                    False  BLACK      F          2012-08-07  \n",
       "4                    False  BLACK      M          2012-09-21  "
      ]
     },
     "execution_count": 15,
     "metadata": {},
     "output_type": "execute_result"
    }
   ],
   "source": [
    "data.head()"
   ]
  },
  {
   "cell_type": "code",
   "execution_count": 16,
   "metadata": {},
   "outputs": [
    {
     "data": {
      "text/plain": [
       "Warning     79279\n",
       "Citation    71191\n",
       "ESERO        7619\n",
       "SERO           86\n",
       "Name: Violation Type, dtype: int64"
      ]
     },
     "execution_count": 16,
     "metadata": {},
     "output_type": "execute_result"
    }
   ],
   "source": [
    "data['Violation Type'].value_counts()"
   ]
  },
  {
   "cell_type": "markdown",
   "metadata": {},
   "source": [
    "## Encoding of Categorical Variables"
   ]
  },
  {
   "cell_type": "code",
   "execution_count": 17,
   "metadata": {},
   "outputs": [],
   "source": [
    "data=data.replace({'No':0,'Yes':1})"
   ]
  },
  {
   "cell_type": "code",
   "execution_count": 18,
   "metadata": {},
   "outputs": [],
   "source": [
    "data['Violation Type']=data['Violation Type'].map({'Citation':0,'ESERO':1,'Warning':2,'SERO':3})\n",
    "data['Race']=data['Race'].map({'ASIAN':0,'BLACK':1,'HISPANIC':2,'NATIVE AMERICAN':3,'OTHER':4,'WHITE':5})\n",
    "data['Gender']=data['Gender'].map({'F':0,'M':1,'U':2})\n",
    "data['Contributed To Accident']=data['Contributed To Accident'].map({False:0,True:1})"
   ]
  },
  {
   "cell_type": "code",
   "execution_count": 19,
   "metadata": {},
   "outputs": [],
   "source": [
    "data['SubAgency']=data['SubAgency'].map({'Headquarters and Special Operations':0,\n",
    "                                         '1st District, Rockville':1,'2nd District, Bethesda':2,\n",
    "                                        '3rd District, Silver Spring':3,'4th District, Wheaton':4,\n",
    "                                        '5th District, Germantown':5,'6th District, Gaithersburg / Montgomery Village':6,\n",
    "                                        'W15':7})"
   ]
  },
  {
   "cell_type": "code",
   "execution_count": 20,
   "metadata": {},
   "outputs": [],
   "source": [
    "data.loc[:,'Date Of Stop_format'] = pd.to_datetime(data['Date Of Stop_format'].astype(str)+' '+data['Time Of Stop'].astype(str))"
   ]
  },
  {
   "cell_type": "code",
   "execution_count": 21,
   "metadata": {
    "scrolled": true
   },
   "outputs": [],
   "source": [
    "data.drop('Time Of Stop',1,inplace=True)"
   ]
  },
  {
   "cell_type": "code",
   "execution_count": 22,
   "metadata": {},
   "outputs": [],
   "source": [
    "le=LabelEncoder()"
   ]
  },
  {
   "cell_type": "code",
   "execution_count": 23,
   "metadata": {},
   "outputs": [],
   "source": [
    "data['VehicleType']=le.fit_transform(data['VehicleType'])"
   ]
  },
  {
   "cell_type": "markdown",
   "metadata": {},
   "source": [
    "### Feature Extraction(month,Year,hour of violation datetime)"
   ]
  },
  {
   "cell_type": "code",
   "execution_count": 24,
   "metadata": {},
   "outputs": [],
   "source": [
    "data['year_vio']=data['Date Of Stop_format'].dt.year\n",
    "data['month_vio']=data['Date Of Stop_format'].dt.month\n",
    "data['day_vio']=data['Date Of Stop_format'].dt.day\n",
    "data['Hour_vio']=data['Date Of Stop_format'].dt.hour\n",
    "data['day_of_week']=data['Date Of Stop_format'].dt.day_name()"
   ]
  },
  {
   "cell_type": "code",
   "execution_count": 25,
   "metadata": {},
   "outputs": [],
   "source": [
    "data['day_of_week']=data['day_of_week'].map({'Monday':0,'Tuesday':0,'Wednesday':0,'Thursday':0,'Friday':0,'Saturday':1,'Sunday':1})"
   ]
  },
  {
   "cell_type": "code",
   "execution_count": 26,
   "metadata": {},
   "outputs": [],
   "source": [
    "data2=data.copy()"
   ]
  },
  {
   "cell_type": "code",
   "execution_count": 27,
   "metadata": {},
   "outputs": [],
   "source": [
    "data2[\"season\"] = data2.month_vio"
   ]
  },
  {
   "cell_type": "code",
   "execution_count": 28,
   "metadata": {},
   "outputs": [],
   "source": [
    "data2.season = np.where(((data2.month_vio==12) | (data2.month_vio==1) | (data2.month_vio==2) ),\"winter\",data2.month_vio)\n",
    "data2.season = np.where(((data2.month_vio==3) | (data2.month_vio==4) | (data2.month_vio==5) ),\"spring\",data2.season)\n",
    "data2.season = np.where(((data2.month_vio==6) | (data2.month_vio==7) | (data2.month_vio==8) ),\"summer\",data2.season)\n",
    "data2.season = np.where(((data2.month_vio==9) | (data2.month_vio==10) | (data2.month_vio==11) ),\"fall\",data2.season)"
   ]
  },
  {
   "cell_type": "code",
   "execution_count": 29,
   "metadata": {},
   "outputs": [],
   "source": [
    "data2.season=data2.season.map({\"winter\":0,\"spring\":1,\"summer\":2,\"fall\":3})"
   ]
  },
  {
   "cell_type": "code",
   "execution_count": 30,
   "metadata": {},
   "outputs": [],
   "source": [
    "data=data2.copy()"
   ]
  },
  {
   "cell_type": "code",
   "execution_count": 31,
   "metadata": {
    "scrolled": true
   },
   "outputs": [
    {
     "data": {
      "text/html": [
       "<div>\n",
       "<style scoped>\n",
       "    .dataframe tbody tr th:only-of-type {\n",
       "        vertical-align: middle;\n",
       "    }\n",
       "\n",
       "    .dataframe tbody tr th {\n",
       "        vertical-align: top;\n",
       "    }\n",
       "\n",
       "    .dataframe thead th {\n",
       "        text-align: right;\n",
       "    }\n",
       "</style>\n",
       "<table border=\"1\" class=\"dataframe\">\n",
       "  <thead>\n",
       "    <tr style=\"text-align: right;\">\n",
       "      <th></th>\n",
       "      <th>SubAgency</th>\n",
       "      <th>Accident</th>\n",
       "      <th>Belts</th>\n",
       "      <th>Personal Injury</th>\n",
       "      <th>Property Damage</th>\n",
       "      <th>Fatal</th>\n",
       "      <th>Commercial License</th>\n",
       "      <th>HAZMAT</th>\n",
       "      <th>Commercial Vehicle</th>\n",
       "      <th>Alcohol</th>\n",
       "      <th>Work Zone</th>\n",
       "      <th>VehicleType</th>\n",
       "      <th>Violation Type</th>\n",
       "      <th>Contributed To Accident</th>\n",
       "      <th>Race</th>\n",
       "      <th>Gender</th>\n",
       "      <th>Date Of Stop_format</th>\n",
       "      <th>year_vio</th>\n",
       "      <th>month_vio</th>\n",
       "      <th>day_vio</th>\n",
       "      <th>Hour_vio</th>\n",
       "      <th>day_of_week</th>\n",
       "      <th>season</th>\n",
       "    </tr>\n",
       "  </thead>\n",
       "  <tbody>\n",
       "    <tr>\n",
       "      <th>0</th>\n",
       "      <td>6</td>\n",
       "      <td>0</td>\n",
       "      <td>0</td>\n",
       "      <td>0</td>\n",
       "      <td>0</td>\n",
       "      <td>0</td>\n",
       "      <td>0</td>\n",
       "      <td>0</td>\n",
       "      <td>0</td>\n",
       "      <td>0</td>\n",
       "      <td>0</td>\n",
       "      <td>1</td>\n",
       "      <td>0</td>\n",
       "      <td>0</td>\n",
       "      <td>1</td>\n",
       "      <td>0</td>\n",
       "      <td>2012-07-26 21:53:00</td>\n",
       "      <td>2012</td>\n",
       "      <td>7</td>\n",
       "      <td>26</td>\n",
       "      <td>21</td>\n",
       "      <td>0</td>\n",
       "      <td>2</td>\n",
       "    </tr>\n",
       "    <tr>\n",
       "      <th>1</th>\n",
       "      <td>3</td>\n",
       "      <td>0</td>\n",
       "      <td>0</td>\n",
       "      <td>0</td>\n",
       "      <td>0</td>\n",
       "      <td>0</td>\n",
       "      <td>0</td>\n",
       "      <td>0</td>\n",
       "      <td>0</td>\n",
       "      <td>0</td>\n",
       "      <td>0</td>\n",
       "      <td>1</td>\n",
       "      <td>2</td>\n",
       "      <td>0</td>\n",
       "      <td>1</td>\n",
       "      <td>1</td>\n",
       "      <td>2012-01-09 16:22:00</td>\n",
       "      <td>2012</td>\n",
       "      <td>1</td>\n",
       "      <td>9</td>\n",
       "      <td>16</td>\n",
       "      <td>0</td>\n",
       "      <td>0</td>\n",
       "    </tr>\n",
       "    <tr>\n",
       "      <th>2</th>\n",
       "      <td>5</td>\n",
       "      <td>0</td>\n",
       "      <td>0</td>\n",
       "      <td>0</td>\n",
       "      <td>0</td>\n",
       "      <td>0</td>\n",
       "      <td>0</td>\n",
       "      <td>0</td>\n",
       "      <td>0</td>\n",
       "      <td>0</td>\n",
       "      <td>0</td>\n",
       "      <td>1</td>\n",
       "      <td>0</td>\n",
       "      <td>0</td>\n",
       "      <td>5</td>\n",
       "      <td>0</td>\n",
       "      <td>2012-02-14 12:04:00</td>\n",
       "      <td>2012</td>\n",
       "      <td>2</td>\n",
       "      <td>14</td>\n",
       "      <td>12</td>\n",
       "      <td>0</td>\n",
       "      <td>0</td>\n",
       "    </tr>\n",
       "    <tr>\n",
       "      <th>3</th>\n",
       "      <td>3</td>\n",
       "      <td>0</td>\n",
       "      <td>0</td>\n",
       "      <td>0</td>\n",
       "      <td>0</td>\n",
       "      <td>0</td>\n",
       "      <td>0</td>\n",
       "      <td>0</td>\n",
       "      <td>0</td>\n",
       "      <td>0</td>\n",
       "      <td>0</td>\n",
       "      <td>4</td>\n",
       "      <td>2</td>\n",
       "      <td>0</td>\n",
       "      <td>1</td>\n",
       "      <td>0</td>\n",
       "      <td>2012-08-07 20:05:00</td>\n",
       "      <td>2012</td>\n",
       "      <td>8</td>\n",
       "      <td>7</td>\n",
       "      <td>20</td>\n",
       "      <td>0</td>\n",
       "      <td>2</td>\n",
       "    </tr>\n",
       "    <tr>\n",
       "      <th>4</th>\n",
       "      <td>2</td>\n",
       "      <td>0</td>\n",
       "      <td>0</td>\n",
       "      <td>0</td>\n",
       "      <td>0</td>\n",
       "      <td>0</td>\n",
       "      <td>0</td>\n",
       "      <td>0</td>\n",
       "      <td>0</td>\n",
       "      <td>0</td>\n",
       "      <td>0</td>\n",
       "      <td>26</td>\n",
       "      <td>0</td>\n",
       "      <td>0</td>\n",
       "      <td>1</td>\n",
       "      <td>1</td>\n",
       "      <td>2012-09-21 14:17:00</td>\n",
       "      <td>2012</td>\n",
       "      <td>9</td>\n",
       "      <td>21</td>\n",
       "      <td>14</td>\n",
       "      <td>0</td>\n",
       "      <td>3</td>\n",
       "    </tr>\n",
       "  </tbody>\n",
       "</table>\n",
       "</div>"
      ],
      "text/plain": [
       "   SubAgency  Accident  Belts  Personal Injury  Property Damage  Fatal  \\\n",
       "0          6         0      0                0                0      0   \n",
       "1          3         0      0                0                0      0   \n",
       "2          5         0      0                0                0      0   \n",
       "3          3         0      0                0                0      0   \n",
       "4          2         0      0                0                0      0   \n",
       "\n",
       "   Commercial License  HAZMAT  Commercial Vehicle  Alcohol  Work Zone  \\\n",
       "0                   0       0                   0        0          0   \n",
       "1                   0       0                   0        0          0   \n",
       "2                   0       0                   0        0          0   \n",
       "3                   0       0                   0        0          0   \n",
       "4                   0       0                   0        0          0   \n",
       "\n",
       "   VehicleType  Violation Type  Contributed To Accident  Race  Gender  \\\n",
       "0            1               0                        0     1       0   \n",
       "1            1               2                        0     1       1   \n",
       "2            1               0                        0     5       0   \n",
       "3            4               2                        0     1       0   \n",
       "4           26               0                        0     1       1   \n",
       "\n",
       "  Date Of Stop_format  year_vio  month_vio  day_vio  Hour_vio  day_of_week  \\\n",
       "0 2012-07-26 21:53:00      2012          7       26        21            0   \n",
       "1 2012-01-09 16:22:00      2012          1        9        16            0   \n",
       "2 2012-02-14 12:04:00      2012          2       14        12            0   \n",
       "3 2012-08-07 20:05:00      2012          8        7        20            0   \n",
       "4 2012-09-21 14:17:00      2012          9       21        14            0   \n",
       "\n",
       "   season  \n",
       "0       2  \n",
       "1       0  \n",
       "2       0  \n",
       "3       2  \n",
       "4       3  "
      ]
     },
     "execution_count": 31,
     "metadata": {},
     "output_type": "execute_result"
    }
   ],
   "source": [
    "data.head()"
   ]
  },
  {
   "cell_type": "markdown",
   "metadata": {},
   "source": [
    "### Checking for class imbalnce in target feature"
   ]
  },
  {
   "cell_type": "markdown",
   "metadata": {},
   "source": [
    "#### Phi Coefficient Before SMOTE"
   ]
  },
  {
   "cell_type": "code",
   "execution_count": 22,
   "metadata": {},
   "outputs": [
    {
     "data": {
      "text/plain": [
       "Index(['SubAgency', 'Accident', 'Belts', 'Personal Injury', 'Property Damage',\n",
       "       'Fatal', 'Commercial License', 'HAZMAT', 'Commercial Vehicle',\n",
       "       'Alcohol', 'Work Zone', 'VehicleType', 'Violation Type',\n",
       "       'Contributed To Accident', 'Race', 'Gender', 'Date Of Stop_format',\n",
       "       'year_vio', 'month_vio', 'day_vio', 'Hour_vio', 'day_of_week',\n",
       "       'season'],\n",
       "      dtype='object')"
      ]
     },
     "execution_count": 22,
     "metadata": {},
     "output_type": "execute_result"
    }
   ],
   "source": [
    "data.columns"
   ]
  },
  {
   "cell_type": "code",
   "execution_count": 23,
   "metadata": {},
   "outputs": [
    {
     "name": "stdout",
     "output_type": "stream",
     "text": [
      "phi for SubAgency \t -0.002\n",
      "phi for Accident \t 0.361\n",
      "phi for Belts \t 0.082\n",
      "phi for Personal Injury \t -0.015\n",
      "phi for Fatal \t -0.002\n",
      "phi for Commercial License \t 0.016\n",
      "phi for HAZMAT \t 0.003\n",
      "phi for Commercial Vehicle \t -0.002\n",
      "phi for Alcohol \t 0.029\n",
      "phi for Work Zone \t 0.007\n",
      "phi for VehicleType \t -0.001\n",
      "phi for Violation Type \t -0.068\n",
      "phi for Contributed To Accident \t 0.361\n",
      "phi for Race \t -0.006\n",
      "phi for Gender \t 0.008\n",
      "phi for month_vio \t -0.0\n",
      "phi for day_vio \t 0.0\n",
      "phi for Hour_vio \t 0.002\n",
      "phi for season \t -0.006\n",
      "phi for day_of_week \t 0.033\n"
     ]
    }
   ],
   "source": [
    "col1=['SubAgency', 'Accident', 'Belts', 'Personal Injury','Fatal','Commercial License', 'HAZMAT', 'Commercial Vehicle',\n",
    "       'Alcohol', 'Work Zone', 'VehicleType', 'Violation Type','Contributed To Accident', 'Race', 'Gender','month_vio', 'day_vio',\n",
    "      'Hour_vio','season','day_of_week']\n",
    "for i in col1:\n",
    "    print('phi for {} \\t'.format(i),round(metrics.matthews_corrcoef(data[i],data['Property Damage'], sample_weight=None),3))"
   ]
  },
  {
   "cell_type": "code",
   "execution_count": 93,
   "metadata": {},
   "outputs": [
    {
     "data": {
      "image/png": "[encoded data removed]",
      "text/plain": [
       "<Figure size 360x360 with 1 Axes>"
      ]
     },
     "metadata": {},
     "output_type": "display_data"
    }
   ],
   "source": [
    "ax = (data['Property Damage'].value_counts()*100.0 /len(data)).plot.pie(autopct='%.1f%%',labels = ['No', 'Yes'],figsize =(5,5), fontsize = 12 )\n",
    "ax.set_ylabel('Property Damage',fontsize = 12)\n",
    "ax.set_title('% of Property Damage', fontsize = 12)\n",
    "plt.show()"
   ]
  },
  {
   "cell_type": "code",
   "execution_count": 32,
   "metadata": {},
   "outputs": [],
   "source": [
    "X=data.drop(['Property Damage','Date Of Stop_format'],1)\n",
    "Y=data['Property Damage']"
   ]
  },
  {
   "cell_type": "code",
   "execution_count": 33,
   "metadata": {},
   "outputs": [],
   "source": [
    "### Dataset is imbalanced\n",
    "\n",
    "#### Using Synthetic Minority Oversampling Technique to balance the dataset\n",
    "\n",
    "from imblearn.over_sampling import SMOTE\n",
    "\n",
    "sm = SMOTE(random_state=2)\n",
    "\n",
    "X_res, y_res=sm.fit_sample(X,Y)"
   ]
  },
  {
   "cell_type": "code",
   "execution_count": 34,
   "metadata": {},
   "outputs": [],
   "source": [
    "X_res=pd.DataFrame(X_res,columns=X.columns)\n",
    "y_res=pd.DataFrame(y_res,columns=['Property Damage'])"
   ]
  },
  {
   "cell_type": "code",
   "execution_count": 35,
   "metadata": {},
   "outputs": [],
   "source": [
    "data1=pd.DataFrame()\n",
    "data1=pd.concat([data1,X_res],axis=1)\n",
    "data1=pd.concat([data1,y_res],axis=1)"
   ]
  },
  {
   "cell_type": "markdown",
   "metadata": {},
   "source": [
    "#### Phi coefficient after SMOTE"
   ]
  },
  {
   "cell_type": "code",
   "execution_count": 28,
   "metadata": {},
   "outputs": [
    {
     "data": {
      "text/plain": [
       "Index(['SubAgency', 'Accident', 'Belts', 'Personal Injury', 'Fatal',\n",
       "       'Commercial License', 'HAZMAT', 'Commercial Vehicle', 'Alcohol',\n",
       "       'Work Zone', 'VehicleType', 'Violation Type', 'Contributed To Accident',\n",
       "       'Race', 'Gender', 'year_vio', 'month_vio', 'day_vio', 'Hour_vio',\n",
       "       'day_of_week', 'season', 'Property Damage'],\n",
       "      dtype='object')"
      ]
     },
     "execution_count": 28,
     "metadata": {},
     "output_type": "execute_result"
    }
   ],
   "source": [
    "data1.columns"
   ]
  },
  {
   "cell_type": "code",
   "execution_count": 36,
   "metadata": {},
   "outputs": [
    {
     "name": "stdout",
     "output_type": "stream",
     "text": [
      "phi for SubAgency -0.0\n",
      "phi for Accident 0.34\n",
      "phi for Belts 0.01\n",
      "phi for Personal Injury -0.08\n",
      "phi for Fatal -0.01\n",
      "phi for Commercial License -0.04\n",
      "phi for HAZMAT -0.01\n",
      "phi for Commercial Vehicle -0.04\n",
      "phi for Alcohol 0.03\n",
      "phi for Work Zone -0.01\n",
      "phi for VehicleType -0.0\n",
      "phi for Violation Type -0.26\n",
      "phi for Contributed To Accident 0.34\n",
      "phi for Race 0.01\n",
      "phi for Gender -0.12\n",
      "phi for year_vio 0.0\n",
      "phi for month_vio 0.0\n",
      "phi for day_vio 0.0\n",
      "phi for Hour_vio 0.01\n",
      "phi for day_of_week -0.07\n",
      "phi for season -0.03\n"
     ]
    }
   ],
   "source": [
    "for i in X_res.columns:\n",
    "    print('phi for {}'.format(i),round(metrics.matthews_corrcoef(X_res[i],y_res['Property Damage'], sample_weight=None),2))"
   ]
  },
  {
   "cell_type": "markdown",
   "metadata": {},
   "source": [
    "# Model Building"
   ]
  },
  {
   "cell_type": "markdown",
   "metadata": {},
   "source": [
    "## Spliting Test Train data "
   ]
  },
  {
   "cell_type": "code",
   "execution_count": 37,
   "metadata": {},
   "outputs": [],
   "source": [
    "from sklearn.model_selection import train_test_split"
   ]
  },
  {
   "cell_type": "code",
   "execution_count": 38,
   "metadata": {},
   "outputs": [],
   "source": [
    "X_train, X_test, y_train, y_test = train_test_split(X_res,y_res,test_size=0.3,random_state=100)"
   ]
  },
  {
   "cell_type": "markdown",
   "metadata": {},
   "source": [
    "## 1.Logistic Regression"
   ]
  },
  {
   "cell_type": "code",
   "execution_count": 39,
   "metadata": {},
   "outputs": [],
   "source": [
    "from sklearn.linear_model import LogisticRegression\n",
    "from sklearn.metrics import accuracy_score,precision_score,recall_score,confusion_matrix,log_loss,roc_curve,roc_auc_score\n",
    "from sklearn.metrics import auc,roc_curve,make_scorer,f1_score"
   ]
  },
  {
   "cell_type": "code",
   "execution_count": 40,
   "metadata": {},
   "outputs": [
    {
     "name": "stdout",
     "output_type": "stream",
     "text": [
      "Train Prediction Score for logistic regression 76.42\n",
      "Test Prediction Score for logistic regression 76.38\n",
      "\n",
      "Confussion matrix:\n",
      " [[29171 17259]\n",
      " [ 4741 41960]]\n",
      "\n",
      "Test Precision Score for logistic regression 0.71\n"
     ]
    }
   ],
   "source": [
    "lg = LogisticRegression()\n",
    "lg.fit(X_train,y_train)\n",
    "y_pred_lg= lg.predict(X_test)\n",
    "\n",
    "lg_score_train = lg.score(X_train,y_train)\n",
    "print(\"Train Prediction Score for logistic regression\",round(lg_score_train*100,2))\n",
    "lg_score_test = accuracy_score(y_test,y_pred_lg)\n",
    "print(\"Test Prediction Score for logistic regression\",round(lg_score_test*100,2))\n",
    "print()\n",
    "print('Confussion matrix:\\n',confusion_matrix(y_test, y_pred_lg))\n",
    "print()\n",
    "print(\"Test Precision Score for logistic regression\",round(precision_score(y_test,y_pred_lg),2))"
   ]
  },
  {
   "cell_type": "code",
   "execution_count": 41,
   "metadata": {},
   "outputs": [
    {
     "name": "stdout",
     "output_type": "stream",
     "text": [
      "Test Precision Score for logistic regression 0.71\n"
     ]
    }
   ],
   "source": [
    "print(\"Test Precision Score for logistic regression\",round(precision_score(y_test,y_pred_lg),2))"
   ]
  },
  {
   "cell_type": "markdown",
   "metadata": {},
   "source": [
    "#### ROC_Curve_logistic regression"
   ]
  },
  {
   "cell_type": "code",
   "execution_count": 35,
   "metadata": {},
   "outputs": [
    {
     "name": "stdout",
     "output_type": "stream",
     "text": [
      "[[0.95689006 0.04310994]\n",
      " [0.26191403 0.73808597]\n",
      " [0.43781344 0.56218656]\n",
      " ...\n",
      " [0.46910852 0.53089148]\n",
      " [0.49507702 0.50492298]\n",
      " [0.45218354 0.54781646]]\n",
      "AUC: 0.852\n"
     ]
    },
    {
     "data": {
      "image/png": "[encoded data removed]",
      "text/plain": [
       "<Figure size 432x288 with 1 Axes>"
      ]
     },
     "metadata": {},
     "output_type": "display_data"
    }
   ],
   "source": [
    "from sklearn.metrics import roc_curve\n",
    "from sklearn.metrics import roc_auc_score\n",
    "\n",
    "# predict probabilities\n",
    "probs = lg.predict_proba(X_test)\n",
    "print(probs)\n",
    "# keep probabilities for the positive outcome only\n",
    "probs = probs[:, 1]\n",
    "\n",
    "# calculate AUC\n",
    "auc = roc_auc_score(y_test, probs)\n",
    "print('AUC: %.3f' % auc)\n",
    "\n",
    "# calculate roc curve\n",
    "fpr, tpr, thresholds = roc_curve(y_test, probs)\n",
    "\n",
    "# plot no skill\n",
    "plt.plot([0, 1], [0, 1], 'k--')\n",
    "\n",
    "# plot the roc curve for the model\n",
    "#plt.plot(fpr, tpr,)\n",
    "plt.plot(fpr, tpr, label ='AUC = %0.5f' %auc )\n",
    "plt.legend(loc=\"lower right\")\n",
    "plt.xlabel('False Positive Rate or [1 - True Negative Rate]')\n",
    "plt.ylabel('True Positive Rate')\n",
    "plt.title('Receiver operating characteristic curve\\n Logistic Regression')\n",
    "\n",
    "# show the plot\n",
    "plt.show()"
   ]
  },
  {
   "cell_type": "code",
   "execution_count": 64,
   "metadata": {},
   "outputs": [
    {
     "data": {
      "text/html": [
       "<div>\n",
       "<style scoped>\n",
       "    .dataframe tbody tr th:only-of-type {\n",
       "        vertical-align: middle;\n",
       "    }\n",
       "\n",
       "    .dataframe tbody tr th {\n",
       "        vertical-align: top;\n",
       "    }\n",
       "\n",
       "    .dataframe thead th {\n",
       "        text-align: right;\n",
       "    }\n",
       "</style>\n",
       "<table border=\"1\" class=\"dataframe\">\n",
       "  <thead>\n",
       "    <tr style=\"text-align: right;\">\n",
       "      <th></th>\n",
       "      <th>coefficient</th>\n",
       "    </tr>\n",
       "  </thead>\n",
       "  <tbody>\n",
       "    <tr>\n",
       "      <th>0</th>\n",
       "      <td>-0.011759</td>\n",
       "    </tr>\n",
       "    <tr>\n",
       "      <th>1</th>\n",
       "      <td>1.505550</td>\n",
       "    </tr>\n",
       "    <tr>\n",
       "      <th>2</th>\n",
       "      <td>-0.021974</td>\n",
       "    </tr>\n",
       "    <tr>\n",
       "      <th>3</th>\n",
       "      <td>-7.964945</td>\n",
       "    </tr>\n",
       "    <tr>\n",
       "      <th>4</th>\n",
       "      <td>-2.262662</td>\n",
       "    </tr>\n",
       "    <tr>\n",
       "      <th>5</th>\n",
       "      <td>-0.726956</td>\n",
       "    </tr>\n",
       "    <tr>\n",
       "      <th>6</th>\n",
       "      <td>0.047440</td>\n",
       "    </tr>\n",
       "    <tr>\n",
       "      <th>7</th>\n",
       "      <td>-2.065013</td>\n",
       "    </tr>\n",
       "    <tr>\n",
       "      <th>8</th>\n",
       "      <td>0.269910</td>\n",
       "    </tr>\n",
       "    <tr>\n",
       "      <th>9</th>\n",
       "      <td>-1.874590</td>\n",
       "    </tr>\n",
       "    <tr>\n",
       "      <th>10</th>\n",
       "      <td>-0.003913</td>\n",
       "    </tr>\n",
       "    <tr>\n",
       "      <th>11</th>\n",
       "      <td>-1.777412</td>\n",
       "    </tr>\n",
       "    <tr>\n",
       "      <th>12</th>\n",
       "      <td>1.505550</td>\n",
       "    </tr>\n",
       "    <tr>\n",
       "      <th>13</th>\n",
       "      <td>-0.067282</td>\n",
       "    </tr>\n",
       "    <tr>\n",
       "      <th>14</th>\n",
       "      <td>-0.719107</td>\n",
       "    </tr>\n",
       "    <tr>\n",
       "      <th>15</th>\n",
       "      <td>0.000874</td>\n",
       "    </tr>\n",
       "    <tr>\n",
       "      <th>16</th>\n",
       "      <td>0.018370</td>\n",
       "    </tr>\n",
       "    <tr>\n",
       "      <th>17</th>\n",
       "      <td>-0.008543</td>\n",
       "    </tr>\n",
       "    <tr>\n",
       "      <th>18</th>\n",
       "      <td>-0.008103</td>\n",
       "    </tr>\n",
       "    <tr>\n",
       "      <th>19</th>\n",
       "      <td>-0.481816</td>\n",
       "    </tr>\n",
       "    <tr>\n",
       "      <th>20</th>\n",
       "      <td>-0.068388</td>\n",
       "    </tr>\n",
       "  </tbody>\n",
       "</table>\n",
       "</div>"
      ],
      "text/plain": [
       "    coefficient\n",
       "0     -0.011759\n",
       "1      1.505550\n",
       "2     -0.021974\n",
       "3     -7.964945\n",
       "4     -2.262662\n",
       "5     -0.726956\n",
       "6      0.047440\n",
       "7     -2.065013\n",
       "8      0.269910\n",
       "9     -1.874590\n",
       "10    -0.003913\n",
       "11    -1.777412\n",
       "12     1.505550\n",
       "13    -0.067282\n",
       "14    -0.719107\n",
       "15     0.000874\n",
       "16     0.018370\n",
       "17    -0.008543\n",
       "18    -0.008103\n",
       "19    -0.481816\n",
       "20    -0.068388"
      ]
     },
     "execution_count": 64,
     "metadata": {},
     "output_type": "execute_result"
    }
   ],
   "source": [
    "coeff=pd.DataFrame(lg.coef_.T,columns=['coefficient'])\n",
    "coeff"
   ]
  },
  {
   "cell_type": "code",
   "execution_count": 63,
   "metadata": {},
   "outputs": [
    {
     "data": {
      "text/html": [
       "<div>\n",
       "<style scoped>\n",
       "    .dataframe tbody tr th:only-of-type {\n",
       "        vertical-align: middle;\n",
       "    }\n",
       "\n",
       "    .dataframe tbody tr th {\n",
       "        vertical-align: top;\n",
       "    }\n",
       "\n",
       "    .dataframe thead th {\n",
       "        text-align: right;\n",
       "    }\n",
       "</style>\n",
       "<table border=\"1\" class=\"dataframe\">\n",
       "  <thead>\n",
       "    <tr style=\"text-align: right;\">\n",
       "      <th></th>\n",
       "      <th>Feature</th>\n",
       "      <th>coefficient</th>\n",
       "      <th>oddsratio</th>\n",
       "      <th>Probability</th>\n",
       "    </tr>\n",
       "  </thead>\n",
       "  <tbody>\n",
       "    <tr>\n",
       "      <th>1</th>\n",
       "      <td>Accident</td>\n",
       "      <td>1.505550</td>\n",
       "      <td>4.506629</td>\n",
       "      <td>81.840071</td>\n",
       "    </tr>\n",
       "    <tr>\n",
       "      <th>12</th>\n",
       "      <td>Contributed To Accident</td>\n",
       "      <td>1.505550</td>\n",
       "      <td>4.506629</td>\n",
       "      <td>81.840071</td>\n",
       "    </tr>\n",
       "    <tr>\n",
       "      <th>8</th>\n",
       "      <td>Alcohol</td>\n",
       "      <td>0.269910</td>\n",
       "      <td>1.309846</td>\n",
       "      <td>56.707074</td>\n",
       "    </tr>\n",
       "    <tr>\n",
       "      <th>6</th>\n",
       "      <td>HAZMAT</td>\n",
       "      <td>0.047440</td>\n",
       "      <td>1.048583</td>\n",
       "      <td>51.185779</td>\n",
       "    </tr>\n",
       "    <tr>\n",
       "      <th>16</th>\n",
       "      <td>month_vio</td>\n",
       "      <td>0.018370</td>\n",
       "      <td>1.018540</td>\n",
       "      <td>50.459239</td>\n",
       "    </tr>\n",
       "    <tr>\n",
       "      <th>15</th>\n",
       "      <td>year_vio</td>\n",
       "      <td>0.000874</td>\n",
       "      <td>1.000875</td>\n",
       "      <td>50.021858</td>\n",
       "    </tr>\n",
       "    <tr>\n",
       "      <th>10</th>\n",
       "      <td>VehicleType</td>\n",
       "      <td>-0.003913</td>\n",
       "      <td>0.996094</td>\n",
       "      <td>49.902163</td>\n",
       "    </tr>\n",
       "    <tr>\n",
       "      <th>18</th>\n",
       "      <td>Hour_vio</td>\n",
       "      <td>-0.008103</td>\n",
       "      <td>0.991930</td>\n",
       "      <td>49.797434</td>\n",
       "    </tr>\n",
       "    <tr>\n",
       "      <th>17</th>\n",
       "      <td>day_vio</td>\n",
       "      <td>-0.008543</td>\n",
       "      <td>0.991493</td>\n",
       "      <td>49.786422</td>\n",
       "    </tr>\n",
       "    <tr>\n",
       "      <th>0</th>\n",
       "      <td>SubAgency</td>\n",
       "      <td>-0.011759</td>\n",
       "      <td>0.988309</td>\n",
       "      <td>49.706018</td>\n",
       "    </tr>\n",
       "    <tr>\n",
       "      <th>2</th>\n",
       "      <td>Belts</td>\n",
       "      <td>-0.021974</td>\n",
       "      <td>0.978266</td>\n",
       "      <td>49.450680</td>\n",
       "    </tr>\n",
       "    <tr>\n",
       "      <th>13</th>\n",
       "      <td>Race</td>\n",
       "      <td>-0.067282</td>\n",
       "      <td>0.934932</td>\n",
       "      <td>48.318584</td>\n",
       "    </tr>\n",
       "    <tr>\n",
       "      <th>20</th>\n",
       "      <td>season</td>\n",
       "      <td>-0.068388</td>\n",
       "      <td>0.933898</td>\n",
       "      <td>48.290972</td>\n",
       "    </tr>\n",
       "    <tr>\n",
       "      <th>19</th>\n",
       "      <td>day_of_week</td>\n",
       "      <td>-0.481816</td>\n",
       "      <td>0.617661</td>\n",
       "      <td>38.182341</td>\n",
       "    </tr>\n",
       "    <tr>\n",
       "      <th>14</th>\n",
       "      <td>Gender</td>\n",
       "      <td>-0.719107</td>\n",
       "      <td>0.487187</td>\n",
       "      <td>32.758969</td>\n",
       "    </tr>\n",
       "    <tr>\n",
       "      <th>5</th>\n",
       "      <td>Commercial License</td>\n",
       "      <td>-0.726956</td>\n",
       "      <td>0.483378</td>\n",
       "      <td>32.586315</td>\n",
       "    </tr>\n",
       "    <tr>\n",
       "      <th>11</th>\n",
       "      <td>Violation Type</td>\n",
       "      <td>-1.777412</td>\n",
       "      <td>0.169075</td>\n",
       "      <td>14.462295</td>\n",
       "    </tr>\n",
       "    <tr>\n",
       "      <th>9</th>\n",
       "      <td>Work Zone</td>\n",
       "      <td>-1.874590</td>\n",
       "      <td>0.153418</td>\n",
       "      <td>13.301153</td>\n",
       "    </tr>\n",
       "    <tr>\n",
       "      <th>7</th>\n",
       "      <td>Commercial Vehicle</td>\n",
       "      <td>-2.065013</td>\n",
       "      <td>0.126817</td>\n",
       "      <td>11.254417</td>\n",
       "    </tr>\n",
       "    <tr>\n",
       "      <th>4</th>\n",
       "      <td>Fatal</td>\n",
       "      <td>-2.262662</td>\n",
       "      <td>0.104073</td>\n",
       "      <td>9.426284</td>\n",
       "    </tr>\n",
       "    <tr>\n",
       "      <th>3</th>\n",
       "      <td>Personal Injury</td>\n",
       "      <td>-7.964945</td>\n",
       "      <td>0.000347</td>\n",
       "      <td>0.034731</td>\n",
       "    </tr>\n",
       "  </tbody>\n",
       "</table>\n",
       "</div>"
      ],
      "text/plain": [
       "                    Feature  coefficient  oddsratio  Probability\n",
       "1                  Accident     1.505550   4.506629    81.840071\n",
       "12  Contributed To Accident     1.505550   4.506629    81.840071\n",
       "8                   Alcohol     0.269910   1.309846    56.707074\n",
       "6                    HAZMAT     0.047440   1.048583    51.185779\n",
       "16                month_vio     0.018370   1.018540    50.459239\n",
       "15                 year_vio     0.000874   1.000875    50.021858\n",
       "10              VehicleType    -0.003913   0.996094    49.902163\n",
       "18                 Hour_vio    -0.008103   0.991930    49.797434\n",
       "17                  day_vio    -0.008543   0.991493    49.786422\n",
       "0                 SubAgency    -0.011759   0.988309    49.706018\n",
       "2                     Belts    -0.021974   0.978266    49.450680\n",
       "13                     Race    -0.067282   0.934932    48.318584\n",
       "20                   season    -0.068388   0.933898    48.290972\n",
       "19              day_of_week    -0.481816   0.617661    38.182341\n",
       "14                   Gender    -0.719107   0.487187    32.758969\n",
       "5        Commercial License    -0.726956   0.483378    32.586315\n",
       "11           Violation Type    -1.777412   0.169075    14.462295\n",
       "9                 Work Zone    -1.874590   0.153418    13.301153\n",
       "7        Commercial Vehicle    -2.065013   0.126817    11.254417\n",
       "4                     Fatal    -2.262662   0.104073     9.426284\n",
       "3           Personal Injury    -7.964945   0.000347     0.034731"
      ]
     },
     "execution_count": 63,
     "metadata": {},
     "output_type": "execute_result"
    }
   ],
   "source": [
    "feature_log=pd.DataFrame(X_train.columns,columns=['Feature'])\n",
    "feature_log=pd.concat([feature_log,coeff],1)\n",
    "feature_log['oddsratio']=np.exp(feature_log['coefficient'])\n",
    "feature_log['Probability']=feature_log['oddsratio']/(feature_log['oddsratio']+1)*100\n",
    "feature_log.sort_values(by='Probability',ascending=False)"
   ]
  },
  {
   "cell_type": "markdown",
   "metadata": {},
   "source": [
    "## 2.Decission Tree"
   ]
  },
  {
   "cell_type": "code",
   "execution_count": 36,
   "metadata": {},
   "outputs": [],
   "source": [
    "from sklearn.tree import DecisionTreeClassifier"
   ]
  },
  {
   "cell_type": "code",
   "execution_count": 37,
   "metadata": {},
   "outputs": [],
   "source": [
    "DT=DecisionTreeClassifier()"
   ]
  },
  {
   "cell_type": "code",
   "execution_count": 38,
   "metadata": {},
   "outputs": [],
   "source": [
    "DT.fit(X_train,y_train)\n",
    "y_pred_dt=DT.predict(X_test)"
   ]
  },
  {
   "cell_type": "code",
   "execution_count": 39,
   "metadata": {},
   "outputs": [
    {
     "name": "stdout",
     "output_type": "stream",
     "text": [
      "Train Prediction Score for Decission Tree 99.95\n",
      "Test Prediction Score for Decission Tree 97.14\n",
      "\n",
      "Confussion matrix:\n",
      " [[44203  2227]\n",
      " [  441 46260]]\n",
      "\n",
      "Test Precision Score for Decission Tree 1.0\n"
     ]
    }
   ],
   "source": [
    "dt_score_train = DT.score(X_train,y_train)\n",
    "print(\"Train Prediction Score for Decission Tree\",round(dt_score_train*100,2))\n",
    "dt_score_test = accuracy_score(y_test,y_pred_dt)\n",
    "print(\"Test Prediction Score for Decission Tree\",round(dt_score_test*100,2))\n",
    "print()\n",
    "print('Confussion matrix:\\n',confusion_matrix(y_test, y_pred_dt))\n",
    "print()\n",
    "print(\"Test Precision Score for Decission Tree\",round(precision_score(y_test,y_pred_dt)))"
   ]
  },
  {
   "cell_type": "markdown",
   "metadata": {},
   "source": [
    "#### ROC_Curve_Decision Tree"
   ]
  },
  {
   "cell_type": "code",
   "execution_count": 40,
   "metadata": {},
   "outputs": [
    {
     "name": "stdout",
     "output_type": "stream",
     "text": [
      "[[1. 0.]\n",
      " [0. 1.]\n",
      " [0. 1.]\n",
      " ...\n",
      " [0. 1.]\n",
      " [0. 1.]\n",
      " [1. 0.]]\n",
      "AUC: 0.972\n"
     ]
    },
    {
     "data": {
      "image/png": "[encoded data removed]",
      "text/plain": [
       "<Figure size 432x288 with 1 Axes>"
      ]
     },
     "metadata": {},
     "output_type": "display_data"
    }
   ],
   "source": [
    "from sklearn.metrics import roc_curve\n",
    "from sklearn.metrics import roc_auc_score\n",
    "\n",
    "# predict probabilities\n",
    "probs = DT.predict_proba(X_test)\n",
    "print(probs)\n",
    "# keep probabilities for the positive outcome only\n",
    "probs = probs[:, 1]\n",
    "\n",
    "# calculate AUC\n",
    "auc = roc_auc_score(y_test, probs)\n",
    "print('AUC: %.3f' % auc)\n",
    "\n",
    "# calculate roc curve\n",
    "fpr, tpr, thresholds = roc_curve(y_test, probs)\n",
    "\n",
    "# plot no skill\n",
    "plt.plot([0, 1], [0, 1], 'k--')\n",
    "\n",
    "# plot the roc curve for the model\n",
    "#plt.plot(fpr, tpr,)\n",
    "plt.plot(fpr, tpr, label ='AUC = %0.5f' %auc )\n",
    "plt.legend(loc=\"lower right\")\n",
    "plt.xlabel('False Positive Rate or [1 - True Negative Rate]')\n",
    "plt.ylabel('True Positive Rate')\n",
    "plt.title('Receiver operating characteristic curve\\n Decission Tree')\n",
    "\n",
    "# show the plot\n",
    "plt.show()"
   ]
  },
  {
   "cell_type": "markdown",
   "metadata": {},
   "source": [
    "## 3.Random Forest"
   ]
  },
  {
   "cell_type": "code",
   "execution_count": 41,
   "metadata": {},
   "outputs": [],
   "source": [
    "from sklearn.ensemble import  RandomForestClassifier\n",
    "from sklearn import metrics"
   ]
  },
  {
   "cell_type": "code",
   "execution_count": 48,
   "metadata": {},
   "outputs": [
    {
     "name": "stdout",
     "output_type": "stream",
     "text": [
      "Test Accuracy for Randomforest:\t 0.985\n",
      "\n",
      "Train Accuracy for Randomforest: 0.999\n",
      "\n",
      "Confussion Matrix:\n",
      " [[45426   357]\n",
      " [ 1004 46344]]\n",
      "\n",
      "Test precision score for Randomforest:\t 0.979\n"
     ]
    }
   ],
   "source": [
    "# Random Forest model\n",
    "RF = RandomForestClassifier()  \n",
    "RF.fit(X_train, y_train)\n",
    "\n",
    "y_pred_RF = RF.predict(X_test) \n",
    "RF_score_test=metrics.accuracy_score(y_test,y_pred_RF)\n",
    "RF_score_train=RF.score(X_train,y_train)\n",
    "\n",
    "print(\"Test Accuracy for Randomforest:\\t\",round(RF_score_test,3))\n",
    "print()\n",
    "print(\"Train Accuracy for Randomforest:\",round(RF_score_train,3))\n",
    "print()\n",
    "print('Confussion Matrix:\\n',metrics.confusion_matrix(y_pred_RF,y_test))\n",
    "print()\n",
    "print(\"Test precision score for Randomforest:\\t\",round(precision_score(y_test,y_pred_RF),3))\n"
   ]
  },
  {
   "cell_type": "code",
   "execution_count": 49,
   "metadata": {},
   "outputs": [
    {
     "name": "stdout",
     "output_type": "stream",
     "text": [
      "              precision    recall  f1-score   support\n",
      "\n",
      "          No       0.99      0.98      0.99     46430\n",
      "         Yes       0.98      0.99      0.99     46701\n",
      "\n",
      "    accuracy                           0.99     93131\n",
      "   macro avg       0.99      0.99      0.99     93131\n",
      "weighted avg       0.99      0.99      0.99     93131\n",
      "\n"
     ]
    }
   ],
   "source": [
    "# Classification report\n",
    "expected = y_test\n",
    "predicted = RF.predict(X_test)\n",
    "from sklearn.metrics import classification_report\n",
    "class_report = classification_report(expected,predicted,target_names=['No','Yes'])\n",
    "print(class_report)"
   ]
  },
  {
   "cell_type": "code",
   "execution_count": 50,
   "metadata": {},
   "outputs": [
    {
     "name": "stdout",
     "output_type": "stream",
     "text": [
      "AUC: 0.997\n"
     ]
    },
    {
     "data": {
      "image/png": "[encoded data removed]",
      "text/plain": [
       "<Figure size 432x288 with 1 Axes>"
      ]
     },
     "metadata": {},
     "output_type": "display_data"
    }
   ],
   "source": [
    "# predict probabilities\n",
    "probs = RF.predict_proba(X_test)\n",
    "\n",
    "# keep probabilities for the positive outcome only\n",
    "probs = probs[:, 1]\n",
    "\n",
    "# calculate AUC\n",
    "auc = roc_auc_score(y_test, probs)\n",
    "print('AUC: %.3f' % auc)\n",
    "\n",
    "# calculate roc curve\n",
    "fpr, tpr, thresholds = roc_curve(y_test, probs)\n",
    "\n",
    "# plot no skill\n",
    "plt.plot([0, 1], [0, 1], 'k--')\n",
    "\n",
    "# plot the roc curve for the model\n",
    "#plt.plot(fpr, tpr,)\n",
    "plt.plot(fpr, tpr, label ='AUC = %0.5f' %auc )\n",
    "plt.legend(loc=\"lower right\")\n",
    "plt.xlabel('False Positive Rate or [1 - True Negative Rate]')\n",
    "plt.ylabel('True Positive Rate')\n",
    "plt.title('Receiver operating characteristic curve')\n",
    "\n",
    "# show the plot\n",
    "plt.show()"
   ]
  },
  {
   "cell_type": "markdown",
   "metadata": {},
   "source": [
    "## Model Comparison of three base models"
   ]
  },
  {
   "cell_type": "code",
   "execution_count": 51,
   "metadata": {
    "scrolled": true
   },
   "outputs": [
    {
     "data": {
      "image/png": "[encoded data removed]",
      "text/plain": [
       "<Figure size 1224x648 with 1 Axes>"
      ]
     },
     "metadata": {},
     "output_type": "display_data"
    }
   ],
   "source": [
    "# Create ROC Graph\n",
    "from sklearn.metrics import roc_curve\n",
    "plt.figure(figsize=(17,9))\n",
    "\n",
    "fpr, tpr, thresholds = roc_curve(y_test, lg.predict_proba(X_test)[:,1])\n",
    "rf_fpr, rf_tpr, rf_thresholds = roc_curve(y_test, RF.predict_proba(X_test)[:,1])\n",
    "dt_fpr, dt_tpr, dt_thresholds = roc_curve(y_test, DT.predict_proba(X_test)[:,1])\n",
    "\n",
    "\n",
    "\n",
    "auc_lg = roc_auc_score(y_test, lg.predict_proba(X_test)[:,1])\n",
    "auc_rf = roc_auc_score(y_test, RF.predict_proba(X_test)[:,1])\n",
    "auc_dt = roc_auc_score(y_test, DT.predict_proba(X_test)[:,1])\n",
    "\n",
    "\n",
    "# Plot Logistic Regression ROC\n",
    "plt.plot(fpr, tpr, label='LogisticRegression (area = %0.3f)' % auc_lg)\n",
    "\n",
    "# Plot Random Forest ROC\n",
    "plt.plot(rf_fpr, rf_tpr, label='RandomForest (area = %0.3f)' % auc_rf)\n",
    "\n",
    "# Plot Decision Tree ROC\n",
    "plt.plot(dt_fpr, dt_tpr, label='DecisionTree (area = %0.3f)' % auc_dt)\n",
    "\n",
    "# Plot Base Rate ROC\n",
    "plt.plot([0,1],[0,1],'k--')\n",
    "plt.xlim([0.0, 1.0])\n",
    "plt.ylim([0.0, 1.0])\n",
    "plt.xlabel('False Positive Rate or (1 - True Negative Rate)')\n",
    "plt.ylabel('True Positive Rate')\n",
    "plt.title('ROC Graph of Different Base Models')\n",
    "plt.legend(loc=\"lower right\")\n",
    "plt.show()"
   ]
  },
  {
   "cell_type": "markdown",
   "metadata": {},
   "source": [
    "#### GridSearch for best params"
   ]
  },
  {
   "cell_type": "code",
   "execution_count": 44,
   "metadata": {},
   "outputs": [
    {
     "data": {
      "text/plain": [
       "GridSearchCV(cv=KFold(n_splits=5, random_state=42, shuffle=True),\n",
       "             error_score='raise-deprecating',\n",
       "             estimator=RandomForestClassifier(bootstrap=True, class_weight=None,\n",
       "                                              criterion='gini', max_depth=None,\n",
       "                                              max_features='auto',\n",
       "                                              max_leaf_nodes=None,\n",
       "                                              min_impurity_decrease=0.0,\n",
       "                                              min_impurity_split=None,\n",
       "                                              min_samples_leaf=1,\n",
       "                                              min_samples_split=2,\n",
       "                                              min_weight_fraction_leaf=0.0,\n",
       "                                              n_estimators='warn', n_jobs=None,\n",
       "                                              oob_score=False,\n",
       "                                              random_state=None, verbose=0,\n",
       "                                              warm_start=False),\n",
       "             iid='warn', n_jobs=None,\n",
       "             param_grid={'criterion': ['entropy', 'gini'],\n",
       "                         'max_depth': array([ 1,  2,  3,  4,  5,  6,  7,  8,  9, 10, 11, 12, 13, 14, 15, 16, 17,\n",
       "       18, 19])},\n",
       "             pre_dispatch='2*n_jobs', refit=True, return_train_score=False,\n",
       "             scoring=make_scorer(f1_score, average=weighted), verbose=0)"
      ]
     },
     "execution_count": 44,
     "metadata": {},
     "output_type": "execute_result"
    }
   ],
   "source": [
    "# finding best hyperparameters for RandomForest\n",
    "from sklearn.model_selection import GridSearchCV\n",
    "RF= RandomForestClassifier()\n",
    "parameter={'max_depth':np.arange(1,20),'criterion':['entropy','gini']}\n",
    "\n",
    "from sklearn.model_selection import KFold\n",
    "kf = KFold(n_splits=5,shuffle=True,random_state=42)\n",
    "\n",
    "GS_RF=GridSearchCV(RF,parameter,cv=kf,scoring=make_scorer(f1_score,average='weighted'))\n",
    "GS_RF.fit(X_train,y_train)"
   ]
  },
  {
   "cell_type": "code",
   "execution_count": 45,
   "metadata": {},
   "outputs": [
    {
     "name": "stdout",
     "output_type": "stream",
     "text": [
      "Best parameters: {'criterion': 'gini', 'max_depth': 19}\n",
      "Accuracy : 0.9034866270836295\n"
     ]
    }
   ],
   "source": [
    "print(\"Best parameters:\",GS_RF.best_params_)\n",
    "print(\"Accuracy :\",GS_RF.best_score_)"
   ]
  },
  {
   "cell_type": "code",
   "execution_count": 46,
   "metadata": {},
   "outputs": [
    {
     "name": "stdout",
     "output_type": "stream",
     "text": [
      "Test Accuracy for Randomforest_regularised:\t 0.905\n",
      "\n",
      "Train Accuracy for Randomforest_regularised: 0.914\n",
      "\n",
      "Confussion Matrix:\n",
      " [[38246   678]\n",
      " [ 8184 46023]]\n"
     ]
    }
   ],
   "source": [
    "# Random Forest model Regularised\n",
    "rf = RandomForestClassifier(random_state=42,max_depth=19)  \n",
    "rf.fit(X_train, y_train)\n",
    "\n",
    "y_pred_rf = rf.predict(X_test) \n",
    "rf_score_test=metrics.accuracy_score(y_test,y_pred_rf)\n",
    "rf_score_train=rf.score(X_train,y_train)\n",
    "\n",
    "print(\"Test Accuracy for Randomforest_regularised:\\t\",round(rf_score_test,3))\n",
    "print()\n",
    "print(\"Train Accuracy for Randomforest_regularised:\",round(rf_score_train,3))\n",
    "print()\n",
    "print('Confussion Matrix:\\n',metrics.confusion_matrix(y_pred_rf,y_test))"
   ]
  },
  {
   "cell_type": "code",
   "execution_count": 253,
   "metadata": {},
   "outputs": [
    {
     "name": "stdout",
     "output_type": "stream",
     "text": [
      "              precision    recall  f1-score   support\n",
      "\n",
      "          No       0.98      0.83      0.90     46430\n",
      "         Yes       0.85      0.99      0.91     46701\n",
      "\n",
      "    accuracy                           0.91     93131\n",
      "   macro avg       0.92      0.91      0.91     93131\n",
      "weighted avg       0.92      0.91      0.91     93131\n",
      "\n"
     ]
    }
   ],
   "source": [
    "# Classification report\n",
    "expected = y_test\n",
    "predicted = rf.predict(X_test)\n",
    "from sklearn.metrics import classification_report\n",
    "class_report = classification_report(expected,predicted,target_names=['No','Yes'])\n",
    "print(class_report)"
   ]
  },
  {
   "cell_type": "code",
   "execution_count": 262,
   "metadata": {},
   "outputs": [
    {
     "name": "stdout",
     "output_type": "stream",
     "text": [
      "AUC: 0.973\n"
     ]
    },
    {
     "data": {
      "image/png": "[encoded data removed]",
      "text/plain": [
       "<Figure size 432x288 with 1 Axes>"
      ]
     },
     "metadata": {},
     "output_type": "display_data"
    }
   ],
   "source": [
    "# predict probabilities\n",
    "probs = rf.predict_proba(X_test)\n",
    "\n",
    "# keep probabilities for the positive outcome only\n",
    "probs = probs[:, 1]\n",
    "\n",
    "# calculate AUC\n",
    "auc = roc_auc_score(y_test, probs)\n",
    "print('AUC: %.3f' % auc)\n",
    "\n",
    "# calculate roc curve\n",
    "fpr, tpr, thresholds = roc_curve(y_test, probs)\n",
    "\n",
    "# plot no skill\n",
    "plt.plot([0, 1], [0, 1], 'k--')\n",
    "\n",
    "# plot the roc curve for the model\n",
    "#plt.plot(fpr, tpr,)\n",
    "plt.plot(fpr, tpr, label ='AUC = %0.5f' %auc )\n",
    "plt.legend(loc=\"lower right\")\n",
    "plt.xlabel('False Positive Rate or [1 - True Negative Rate]')\n",
    "plt.ylabel('True Positive Rate')\n",
    "plt.title('Receiver operating characteristic curve\\n Regularised Random forest')\n",
    "\n",
    "# show the plot\n",
    "plt.show()"
   ]
  },
  {
   "cell_type": "code",
   "execution_count": 82,
   "metadata": {},
   "outputs": [],
   "source": [
    "feat_importance = rf.feature_importances_"
   ]
  },
  {
   "cell_type": "code",
   "execution_count": 83,
   "metadata": {
    "scrolled": false
   },
   "outputs": [
    {
     "data": {
      "image/png": "[encoded data removed]",
      "text/plain": [
       "<Figure size 1080x576 with 1 Axes>"
      ]
     },
     "metadata": {},
     "output_type": "display_data"
    }
   ],
   "source": [
    "r = pd.DataFrame(columns=['Feature','Importance'])\n",
    "ncomp = 15\n",
    "r['Feature'] = feat_labels = X_train.columns\n",
    "r['Importance'] = rf.feature_importances_\n",
    "r.set_index(r['Feature'], inplace=True)\n",
    "ax = r.sort_values('Importance', ascending=False)[:ncomp].plot.bar(width=0.9, legend=False, figsize=(15,8))\n",
    "ax.set_ylabel('Relative Importance')\n",
    "plt.show()"
   ]
  },
  {
   "cell_type": "markdown",
   "metadata": {},
   "source": [
    "# Ensemble Methods"
   ]
  },
  {
   "cell_type": "code",
   "execution_count": 41,
   "metadata": {},
   "outputs": [],
   "source": [
    "from sklearn.ensemble import RandomForestClassifier\n",
    "from sklearn.ensemble import BaggingClassifier\n",
    "from sklearn.ensemble import AdaBoostClassifier\n",
    "from sklearn.ensemble import GradientBoostingClassifier,\n",
    "from sklearn.ensemble import VotingClassifier\n",
    "from sklearn.model_selection import KFold\n",
    "from sklearn.metrics import auc,roc_curve,make_scorer\n",
    "from sklearn import metrics"
   ]
  },
  {
   "cell_type": "markdown",
   "metadata": {},
   "source": [
    "### Gradient Boosting"
   ]
  },
  {
   "cell_type": "code",
   "execution_count": 276,
   "metadata": {},
   "outputs": [
    {
     "name": "stdout",
     "output_type": "stream",
     "text": [
      "Train Prediction Score 81.06330791567534\n",
      "Test Prediction Score 80.88391620405665\n"
     ]
    },
    {
     "data": {
      "text/plain": [
       "array([[32707, 13723],\n",
       "       [ 4080, 42621]], dtype=int64)"
      ]
     },
     "execution_count": 276,
     "metadata": {},
     "output_type": "execute_result"
    }
   ],
   "source": [
    "from sklearn.ensemble import GradientBoostingClassifier\n",
    "gboo =GradientBoostingClassifier(n_estimators=100,random_state=100)\n",
    "gboo.fit(X_train,y_train)\n",
    "\n",
    "y_pred_gboo= gboo.predict(X_test)\n",
    "\n",
    "#Score of Prediction\n",
    "gboo_score_train = gboo.score(X_train,y_train)\n",
    "print(\"Train Prediction Score Gradient boost\",gboo_score_train*100)\n",
    "\n",
    "gboo_score_test = accuracy_score(y_test,y_pred_gboo)\n",
    "print(\"Test Prediction Score gradient boost\",gboo_score_test*100)\n",
    "\n",
    "confusion_matrix(y_test, y_pred_gboo)"
   ]
  },
  {
   "cell_type": "code",
   "execution_count": 277,
   "metadata": {},
   "outputs": [
    {
     "name": "stdout",
     "output_type": "stream",
     "text": [
      "AUC: 0.895\n"
     ]
    },
    {
     "data": {
      "image/png": "[encoded data removed]",
      "text/plain": [
       "<Figure size 432x288 with 1 Axes>"
      ]
     },
     "metadata": {},
     "output_type": "display_data"
    }
   ],
   "source": [
    "# predict probabilities\n",
    "probs = gboo.predict_proba(X_test)\n",
    "\n",
    "# keep probabilities for the positive outcome only\n",
    "probs = probs[:, 1]\n",
    "\n",
    "# calculate AUC\n",
    "auc = roc_auc_score(y_test, probs)\n",
    "print('AUC: %.3f' % auc)\n",
    "\n",
    "# calculate roc curve\n",
    "fpr, tpr, thresholds = roc_curve(y_test, probs)\n",
    "\n",
    "# plot no skill\n",
    "plt.plot([0, 1], [0, 1], 'k--')\n",
    "\n",
    "# plot the roc curve for the model\n",
    "#plt.plot(fpr, tpr,)\n",
    "plt.plot(fpr, tpr, label ='AUC = %0.5f' %auc )\n",
    "plt.legend(loc=\"lower right\")\n",
    "plt.xlabel('False Positive Rate or [1 - True Negative Rate]')\n",
    "plt.ylabel('True Positive Rate')\n",
    "plt.title('Receiver operating characteristic curve\\n gradient boost')\n",
    "\n",
    "# show the plot\n",
    "plt.show()"
   ]
  },
  {
   "cell_type": "markdown",
   "metadata": {},
   "source": [
    "## XG Boost"
   ]
  },
  {
   "cell_type": "code",
   "execution_count": 78,
   "metadata": {},
   "outputs": [],
   "source": [
    "from xgboost import XGBClassifier"
   ]
  },
  {
   "cell_type": "code",
   "execution_count": 280,
   "metadata": {},
   "outputs": [],
   "source": [
    "xg=XGBClassifier(max_depth=15)"
   ]
  },
  {
   "cell_type": "code",
   "execution_count": 281,
   "metadata": {},
   "outputs": [],
   "source": [
    "xg.fit(X_train,y_train)\n",
    "y_pred_xg=xg.predict(X_test)"
   ]
  },
  {
   "cell_type": "code",
   "execution_count": 293,
   "metadata": {},
   "outputs": [
    {
     "name": "stdout",
     "output_type": "stream",
     "text": [
      "Train Prediction Score for XG boost 97.81\n",
      "Test Prediction Score for XG Boost 96.37\n",
      "Test precission score for XG Boost 0.94\n"
     ]
    }
   ],
   "source": [
    "#Score of Prediction\n",
    "xg_score_train = xg.score(X_train,y_train)\n",
    "print(\"Train Prediction Score for XG boost\",round(xg_score_train,2))\n",
    "\n",
    "xg_score_test = accuracy_score(y_test,y_pred_xg)\n",
    "print(\"Test Prediction Score for XG Boost\",round(xg_score_test,2))\n",
    "\n",
    "confusion_matrix(y_test, y_pred_xg)\n",
    "\n",
    "print(\"Test precission score for XG Boost\",round(precision_score(y_test,y_pred_xg),2))"
   ]
  },
  {
   "cell_type": "code",
   "execution_count": 299,
   "metadata": {},
   "outputs": [
    {
     "name": "stdout",
     "output_type": "stream",
     "text": [
      "AUC: 0.994\n"
     ]
    },
    {
     "data": {
      "image/png": "[encoded data removed]",
      "text/plain": [
       "<Figure size 432x288 with 1 Axes>"
      ]
     },
     "metadata": {},
     "output_type": "display_data"
    }
   ],
   "source": [
    "# predict probabilities\n",
    "probs = xg.predict_proba(X_test)\n",
    "\n",
    "# keep probabilities for the positive outcome only\n",
    "probs = probs[:, 1]\n",
    "\n",
    "# calculate AUC\n",
    "auc = roc_auc_score(y_test, probs)\n",
    "print('AUC: %.3f' % auc)\n",
    "\n",
    "# calculate roc curve\n",
    "fpr, tpr, thresholds = roc_curve(y_test, probs)\n",
    "\n",
    "# plot no skill\n",
    "plt.plot([0, 1], [0, 1], 'k--')\n",
    "\n",
    "# plot the roc curve for the model\n",
    "#plt.plot(fpr, tpr,)\n",
    "plt.plot(fpr, tpr, label ='AUC = %0.5f' %auc )\n",
    "plt.legend(loc=\"lower right\")\n",
    "plt.xlabel('False Positive Rate or [1 - True Negative Rate]')\n",
    "plt.ylabel('True Positive Rate')\n",
    "plt.title('Receiver operating characteristic curve\\n gradient boost')\n",
    "\n",
    "# show the plot\n",
    "plt.show()"
   ]
  },
  {
   "cell_type": "markdown",
   "metadata": {},
   "source": [
    "# Ada Boost"
   ]
  },
  {
   "cell_type": "code",
   "execution_count": 155,
   "metadata": {},
   "outputs": [],
   "source": [
    "from sklearn.ensemble import AdaBoostClassifier"
   ]
  },
  {
   "cell_type": "code",
   "execution_count": 295,
   "metadata": {},
   "outputs": [],
   "source": [
    "ad_rf=AdaBoostClassifier(base_estimator=rf)"
   ]
  },
  {
   "cell_type": "code",
   "execution_count": 296,
   "metadata": {},
   "outputs": [
    {
     "data": {
      "text/plain": [
       "AdaBoostClassifier(algorithm='SAMME.R',\n",
       "                   base_estimator=RandomForestClassifier(bootstrap=True,\n",
       "                                                         class_weight=None,\n",
       "                                                         criterion='gini',\n",
       "                                                         max_depth=19,\n",
       "                                                         max_features='auto',\n",
       "                                                         max_leaf_nodes=None,\n",
       "                                                         min_impurity_decrease=0.0,\n",
       "                                                         min_impurity_split=None,\n",
       "                                                         min_samples_leaf=1,\n",
       "                                                         min_samples_split=2,\n",
       "                                                         min_weight_fraction_leaf=0.0,\n",
       "                                                         n_estimators=10,\n",
       "                                                         n_jobs=None,\n",
       "                                                         oob_score=False,\n",
       "                                                         random_state=42,\n",
       "                                                         verbose=0,\n",
       "                                                         warm_start=False),\n",
       "                   learning_rate=1.0, n_estimators=50, random_state=None)"
      ]
     },
     "execution_count": 296,
     "metadata": {},
     "output_type": "execute_result"
    }
   ],
   "source": [
    "ad_rf.fit(X_train,y_train)"
   ]
  },
  {
   "cell_type": "code",
   "execution_count": 297,
   "metadata": {},
   "outputs": [],
   "source": [
    "y_pred_adb=ad_rf.predict(X_test)"
   ]
  },
  {
   "cell_type": "code",
   "execution_count": 298,
   "metadata": {},
   "outputs": [
    {
     "name": "stdout",
     "output_type": "stream",
     "text": [
      "Train Prediction Score 1.0\n",
      "Test Prediction Score 0.96\n"
     ]
    },
    {
     "data": {
      "text/plain": [
       "array([[45859,   571],\n",
       "       [  239, 46462]], dtype=int64)"
      ]
     },
     "execution_count": 298,
     "metadata": {},
     "output_type": "execute_result"
    }
   ],
   "source": [
    "#Score of Prediction\n",
    "ad_score_train = ad_rf.score(X_train,y_train)\n",
    "print(\"Train Prediction Score\",round(ad_score_train,2))\n",
    "\n",
    "ad_score_test = accuracy_score(y_test,y_pred_xg)\n",
    "print(\"Test Prediction Score\",round(ad_score_test,2))\n",
    "\n",
    "confusion_matrix(y_test, y_pred_adb)"
   ]
  },
  {
   "cell_type": "code",
   "execution_count": 161,
   "metadata": {},
   "outputs": [
    {
     "name": "stdout",
     "output_type": "stream",
     "text": [
      "AUC: 0.999\n"
     ]
    },
    {
     "data": {
      "image/png": "[encoded data removed]",
      "text/plain": [
       "<Figure size 432x288 with 1 Axes>"
      ]
     },
     "metadata": {},
     "output_type": "display_data"
    }
   ],
   "source": [
    "# predict probabilities\n",
    "probs = ad_rf.predict_proba(X_test)\n",
    "\n",
    "# keep probabilities for the positive outcome only\n",
    "probs = probs[:, 1]\n",
    "\n",
    "# calculate AUC\n",
    "auc = roc_auc_score(y_test, probs)\n",
    "print('AUC: %.3f' % auc)\n",
    "\n",
    "# calculate roc curve\n",
    "fpr, tpr, thresholds = roc_curve(y_test, probs)\n",
    "\n",
    "# plot no skill\n",
    "plt.plot([0, 1], [0, 1], 'k--')\n",
    "\n",
    "# plot the roc curve for the model\n",
    "#plt.plot(fpr, tpr,)\n",
    "plt.plot(fpr, tpr, label ='AUC = %0.5f' %auc )\n",
    "plt.legend(loc=\"lower right\")\n",
    "plt.xlabel('False Positive Rate or [1 - True Negative Rate]')\n",
    "plt.ylabel('True Positive Rate')\n",
    "plt.title('Receiver operating characteristic curve')\n",
    "\n",
    "# show the plot\n",
    "plt.show()"
   ]
  },
  {
   "cell_type": "markdown",
   "metadata": {},
   "source": [
    "### Model Comparison"
   ]
  },
  {
   "cell_type": "code",
   "execution_count": 301,
   "metadata": {},
   "outputs": [
    {
     "data": {
      "image/png": "[encoded data removed]",
      "text/plain": [
       "<Figure size 1224x648 with 1 Axes>"
      ]
     },
     "metadata": {},
     "output_type": "display_data"
    }
   ],
   "source": [
    "# Create ROC Graph\n",
    "from sklearn.metrics import roc_curve\n",
    "plt.figure(figsize=(17,9))\n",
    "\n",
    "fpr, tpr, thresholds = roc_curve(y_test, lg.predict_proba(X_test)[:,1])\n",
    "rf_fpr, rf_tpr, rf_thresholds = roc_curve(y_test, RF.predict_proba(X_test)[:,1])\n",
    "dt_fpr, dt_tpr, dt_thresholds = roc_curve(y_test, DT.predict_proba(X_test)[:,1])\n",
    "gboo_fpr, gboo_tpr, gboo_thresholds = roc_curve(y_test, gboo.predict_proba(X_test)[:,1])\n",
    "xg_fpr, xg_tpr, xg_thresholds = roc_curve(y_test, xg.predict_proba(X_test)[:,1])\n",
    "adb_fpr, adb_tpr, adb_thresholds = roc_curve(y_test, ad_rf.predict_proba(X_test)[:,1])\n",
    "\n",
    "\n",
    "auc_lg = roc_auc_score(y_test, lg.predict_proba(X_test)[:,1])\n",
    "auc_rf = roc_auc_score(y_test, RF.predict_proba(X_test)[:,1])\n",
    "auc_dt = roc_auc_score(y_test, DT.predict_proba(X_test)[:,1])\n",
    "auc_xg = roc_auc_score(y_test, xg.predict_proba(X_test)[:,1])\n",
    "auc_gboo = roc_auc_score(y_test, gboo.predict_proba(X_test)[:,1])\n",
    "auc_adb = roc_auc_score(y_test, ad_rf.predict_proba(X_test)[:,1])\n",
    "\n",
    "# Plot Logistic Regression ROC\n",
    "plt.plot(fpr, tpr, label='LogisticRegression (area = %0.3f)' % auc_lg)\n",
    "\n",
    "# Plot Random Forest ROC\n",
    "plt.plot(rf_fpr, rf_tpr, label='RandomForest (area = %0.3f)' % auc_rf)\n",
    "\n",
    "# Plot Decision Tree ROC\n",
    "plt.plot(dt_fpr, dt_tpr, label='DecisionTree (area = %0.3f)' % auc_dt)\n",
    "\n",
    "# Plot Naive bayes ROC\n",
    "plt.plot(xg_fpr,xg_tpr, label='XG boost (area = %0.3f)' % auc_xg)\n",
    "\n",
    "# Plot Naive bayes ROC\n",
    "plt.plot(adb_fpr, adb_tpr, label='Adaboost (area = %0.3f)' % auc_adb)\n",
    "\n",
    "# Plot Gradient Boosting ROC\n",
    "plt.plot(gboo_fpr, gboo_tpr, label='GradientBoosting(area = %0.3f)' % auc_gboo)\n",
    "\n",
    "# Plot Base Rate ROC\n",
    "plt.plot([0,1],[0,1],'k--')\n",
    "plt.xlim([0.0, 1.0])\n",
    "plt.ylim([0.0, 1.0])\n",
    "plt.xlabel('False Positive Rate or (1 - True Negative Rate)')\n",
    "plt.ylabel('True Positive Rate')\n",
    "plt.title('ROC Graph of Different Base Models')\n",
    "plt.legend(loc=\"lower right\")\n",
    "plt.show()"
   ]
  },
  {
   "cell_type": "code",
   "execution_count": null,
   "metadata": {},
   "outputs": [],
   "source": []
  }
 ],
 "metadata": {
  "kernelspec": {
   "display_name": "Python 3",
   "language": "python",
   "name": "python3"
  },
  "language_info": {
   "codemirror_mode": {
    "name": "ipython",
    "version": 3
   },
   "file_extension": ".py",
   "mimetype": "text/x-python",
   "name": "python",
   "nbconvert_exporter": "python",
   "pygments_lexer": "ipython3",
   "version": "3.6.5"
  }
 },
 "nbformat": 4,
 "nbformat_minor": 2
}
