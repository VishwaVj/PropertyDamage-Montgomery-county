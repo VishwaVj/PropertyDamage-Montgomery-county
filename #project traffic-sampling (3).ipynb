{
 "cells": [
  {
   "cell_type": "code",
   "execution_count": 2,
   "metadata": {},
   "outputs": [],
   "source": [
    "import numpy as np\n",
    "from pandas import DataFrame,Series\n",
    "import pandas as pd\n",
    "import matplotlib.pyplot as plt\n",
    "import seaborn as sns\n",
    "from datetime import datetime\n",
    "from sklearn.model_selection import train_test_split\n",
    "from sklearn.linear_model import LinearRegression\n",
    "from sklearn.metrics import mean_squared_error,r2_score\n",
    "import statsmodels.api as sm\n",
    "import warnings\n",
    "warnings.filterwarnings('ignore')"
   ]
  },
  {
   "cell_type": "markdown",
   "metadata": {},
   "source": [
    "### Dataset Input"
   ]
  },
  {
   "cell_type": "code",
   "execution_count": 3,
   "metadata": {},
   "outputs": [],
   "source": [
    "file=pd.read_csv(\"Traffic_Violations-API.csv\")"
   ]
  },
  {
   "cell_type": "code",
   "execution_count": 4,
   "metadata": {},
   "outputs": [],
   "source": [
    "pd.set_option(\"display.max_columns\",100)"
   ]
  },
  {
   "cell_type": "code",
   "execution_count": 5,
   "metadata": {},
   "outputs": [
    {
     "data": {
      "text/plain": [
       "(1581743, 35)"
      ]
     },
     "execution_count": 5,
     "metadata": {},
     "output_type": "execute_result"
    }
   ],
   "source": [
    "file.shape"
   ]
  },
  {
   "cell_type": "code",
   "execution_count": 6,
   "metadata": {
    "scrolled": true
   },
   "outputs": [
    {
     "data": {
      "text/html": [
       "<div>\n",
       "<style scoped>\n",
       "    .dataframe tbody tr th:only-of-type {\n",
       "        vertical-align: middle;\n",
       "    }\n",
       "\n",
       "    .dataframe tbody tr th {\n",
       "        vertical-align: top;\n",
       "    }\n",
       "\n",
       "    .dataframe thead th {\n",
       "        text-align: right;\n",
       "    }\n",
       "</style>\n",
       "<table border=\"1\" class=\"dataframe\">\n",
       "  <thead>\n",
       "    <tr style=\"text-align: right;\">\n",
       "      <th></th>\n",
       "      <th>Date Of Stop</th>\n",
       "      <th>Time Of Stop</th>\n",
       "      <th>Agency</th>\n",
       "      <th>SubAgency</th>\n",
       "      <th>Description</th>\n",
       "      <th>Location</th>\n",
       "      <th>Latitude</th>\n",
       "      <th>Longitude</th>\n",
       "      <th>Accident</th>\n",
       "      <th>Belts</th>\n",
       "      <th>Personal Injury</th>\n",
       "      <th>Property Damage</th>\n",
       "      <th>Fatal</th>\n",
       "      <th>Commercial License</th>\n",
       "      <th>HAZMAT</th>\n",
       "      <th>Commercial Vehicle</th>\n",
       "      <th>Alcohol</th>\n",
       "      <th>Work Zone</th>\n",
       "      <th>State</th>\n",
       "      <th>VehicleType</th>\n",
       "      <th>Year</th>\n",
       "      <th>Make</th>\n",
       "      <th>Model</th>\n",
       "      <th>Color</th>\n",
       "      <th>Violation Type</th>\n",
       "      <th>Charge</th>\n",
       "      <th>Article</th>\n",
       "      <th>Contributed To Accident</th>\n",
       "      <th>Race</th>\n",
       "      <th>Gender</th>\n",
       "      <th>Driver City</th>\n",
       "      <th>Driver State</th>\n",
       "      <th>DL State</th>\n",
       "      <th>Arrest Type</th>\n",
       "      <th>Geolocation</th>\n",
       "    </tr>\n",
       "  </thead>\n",
       "  <tbody>\n",
       "    <tr>\n",
       "      <th>0</th>\n",
       "      <td>09/17/2019</td>\n",
       "      <td>08:48:00</td>\n",
       "      <td>MCP</td>\n",
       "      <td>6th District, Gaithersburg / Montgomery Village</td>\n",
       "      <td>STOP LIGHTS (*)</td>\n",
       "      <td>N FREDERICK AVE / WATKINS MILL RD</td>\n",
       "      <td>39.158662</td>\n",
       "      <td>-77.218887</td>\n",
       "      <td>No</td>\n",
       "      <td>No</td>\n",
       "      <td>No</td>\n",
       "      <td>No</td>\n",
       "      <td>No</td>\n",
       "      <td>No</td>\n",
       "      <td>No</td>\n",
       "      <td>No</td>\n",
       "      <td>No</td>\n",
       "      <td>No</td>\n",
       "      <td>MD</td>\n",
       "      <td>02 - Automobile</td>\n",
       "      <td>2001.0</td>\n",
       "      <td>MERZ</td>\n",
       "      <td>4S</td>\n",
       "      <td>SILVER</td>\n",
       "      <td>ESERO</td>\n",
       "      <td>64*</td>\n",
       "      <td>NaN</td>\n",
       "      <td>False</td>\n",
       "      <td>BLACK</td>\n",
       "      <td>F</td>\n",
       "      <td>GERMANTOWN</td>\n",
       "      <td>MD</td>\n",
       "      <td>MD</td>\n",
       "      <td>A - Marked Patrol</td>\n",
       "      <td>(39.1586616666667, -77.2188866666667)</td>\n",
       "    </tr>\n",
       "    <tr>\n",
       "      <th>1</th>\n",
       "      <td>09/17/2019</td>\n",
       "      <td>19:44:00</td>\n",
       "      <td>MCP</td>\n",
       "      <td>1st District, Rockville</td>\n",
       "      <td>DRIVING VEHICLE ON HIGHWAY WITHOUT CURRENT REG...</td>\n",
       "      <td>INDIANOLA DR / CRABBS BRANCH WAY</td>\n",
       "      <td>39.114683</td>\n",
       "      <td>-77.156545</td>\n",
       "      <td>No</td>\n",
       "      <td>No</td>\n",
       "      <td>No</td>\n",
       "      <td>No</td>\n",
       "      <td>No</td>\n",
       "      <td>No</td>\n",
       "      <td>No</td>\n",
       "      <td>No</td>\n",
       "      <td>No</td>\n",
       "      <td>No</td>\n",
       "      <td>MD</td>\n",
       "      <td>02 - Automobile</td>\n",
       "      <td>2017.0</td>\n",
       "      <td>HONDA</td>\n",
       "      <td>PILOT</td>\n",
       "      <td>BLACK</td>\n",
       "      <td>Warning</td>\n",
       "      <td>13-411(d)</td>\n",
       "      <td>Transportation Article</td>\n",
       "      <td>False</td>\n",
       "      <td>OTHER</td>\n",
       "      <td>F</td>\n",
       "      <td>DERWOOD</td>\n",
       "      <td>MD</td>\n",
       "      <td>MD</td>\n",
       "      <td>A - Marked Patrol</td>\n",
       "      <td>(39.1146833333333, -77.156545)</td>\n",
       "    </tr>\n",
       "    <tr>\n",
       "      <th>2</th>\n",
       "      <td>09/17/2019</td>\n",
       "      <td>11:27:00</td>\n",
       "      <td>MCP</td>\n",
       "      <td>2nd District, Bethesda</td>\n",
       "      <td>EXCEEDING THE POSTED SPEED LIMIT OF 35 MPH</td>\n",
       "      <td>RIVER RD / BRAEBURN PKWY</td>\n",
       "      <td>38.978577</td>\n",
       "      <td>-77.130873</td>\n",
       "      <td>No</td>\n",
       "      <td>No</td>\n",
       "      <td>No</td>\n",
       "      <td>No</td>\n",
       "      <td>No</td>\n",
       "      <td>No</td>\n",
       "      <td>No</td>\n",
       "      <td>No</td>\n",
       "      <td>No</td>\n",
       "      <td>No</td>\n",
       "      <td>MD</td>\n",
       "      <td>02 - Automobile</td>\n",
       "      <td>2009.0</td>\n",
       "      <td>TOYOTA</td>\n",
       "      <td>PRIUS</td>\n",
       "      <td>GRAY</td>\n",
       "      <td>Warning</td>\n",
       "      <td>21-801.1</td>\n",
       "      <td>Transportation Article</td>\n",
       "      <td>False</td>\n",
       "      <td>WHITE</td>\n",
       "      <td>M</td>\n",
       "      <td>ROCKVILLE</td>\n",
       "      <td>MD</td>\n",
       "      <td>MD</td>\n",
       "      <td>A - Marked Patrol</td>\n",
       "      <td>(38.9785766666667, -77.1308733333333)</td>\n",
       "    </tr>\n",
       "    <tr>\n",
       "      <th>3</th>\n",
       "      <td>09/17/2019</td>\n",
       "      <td>20:10:00</td>\n",
       "      <td>MCP</td>\n",
       "      <td>2nd District, Bethesda</td>\n",
       "      <td>DRIVING VEH. W/O ADEQUATE REAR REG. PLATE ILLU...</td>\n",
       "      <td>PARKLAWN DR / RANDOLPH RD</td>\n",
       "      <td>39.053620</td>\n",
       "      <td>-77.107472</td>\n",
       "      <td>No</td>\n",
       "      <td>No</td>\n",
       "      <td>No</td>\n",
       "      <td>No</td>\n",
       "      <td>No</td>\n",
       "      <td>No</td>\n",
       "      <td>No</td>\n",
       "      <td>No</td>\n",
       "      <td>No</td>\n",
       "      <td>No</td>\n",
       "      <td>MD</td>\n",
       "      <td>02 - Automobile</td>\n",
       "      <td>2013.0</td>\n",
       "      <td>HYUN</td>\n",
       "      <td>ELANTRA</td>\n",
       "      <td>SILVER</td>\n",
       "      <td>Warning</td>\n",
       "      <td>22-204(f)</td>\n",
       "      <td>Transportation Article</td>\n",
       "      <td>False</td>\n",
       "      <td>BLACK</td>\n",
       "      <td>M</td>\n",
       "      <td>SILVER SPRING</td>\n",
       "      <td>MD</td>\n",
       "      <td>MD</td>\n",
       "      <td>A - Marked Patrol</td>\n",
       "      <td>(39.05362, -77.1074716666667)</td>\n",
       "    </tr>\n",
       "    <tr>\n",
       "      <th>4</th>\n",
       "      <td>09/17/2019</td>\n",
       "      <td>16:44:00</td>\n",
       "      <td>MCP</td>\n",
       "      <td>2nd District, Bethesda</td>\n",
       "      <td>DRIVER FAILURE TO OBEY PROPERLY PLACED TRAFFIC...</td>\n",
       "      <td>POOKS HILL RD / LINDEN LA</td>\n",
       "      <td>39.013237</td>\n",
       "      <td>-77.106553</td>\n",
       "      <td>No</td>\n",
       "      <td>No</td>\n",
       "      <td>No</td>\n",
       "      <td>No</td>\n",
       "      <td>No</td>\n",
       "      <td>No</td>\n",
       "      <td>No</td>\n",
       "      <td>No</td>\n",
       "      <td>No</td>\n",
       "      <td>No</td>\n",
       "      <td>MD</td>\n",
       "      <td>02 - Automobile</td>\n",
       "      <td>2011.0</td>\n",
       "      <td>HONDA</td>\n",
       "      <td>4H</td>\n",
       "      <td>RED</td>\n",
       "      <td>Warning</td>\n",
       "      <td>21-201(a1)</td>\n",
       "      <td>Transportation Article</td>\n",
       "      <td>False</td>\n",
       "      <td>WHITE</td>\n",
       "      <td>F</td>\n",
       "      <td>SILVER SPRING</td>\n",
       "      <td>MD</td>\n",
       "      <td>MD</td>\n",
       "      <td>A - Marked Patrol</td>\n",
       "      <td>(39.0132366666667, -77.1065533333333)</td>\n",
       "    </tr>\n",
       "  </tbody>\n",
       "</table>\n",
       "</div>"
      ],
      "text/plain": [
       "  Date Of Stop Time Of Stop Agency  \\\n",
       "0   09/17/2019     08:48:00    MCP   \n",
       "1   09/17/2019     19:44:00    MCP   \n",
       "2   09/17/2019     11:27:00    MCP   \n",
       "3   09/17/2019     20:10:00    MCP   \n",
       "4   09/17/2019     16:44:00    MCP   \n",
       "\n",
       "                                         SubAgency  \\\n",
       "0  6th District, Gaithersburg / Montgomery Village   \n",
       "1                          1st District, Rockville   \n",
       "2                           2nd District, Bethesda   \n",
       "3                           2nd District, Bethesda   \n",
       "4                           2nd District, Bethesda   \n",
       "\n",
       "                                         Description  \\\n",
       "0                                    STOP LIGHTS (*)   \n",
       "1  DRIVING VEHICLE ON HIGHWAY WITHOUT CURRENT REG...   \n",
       "2         EXCEEDING THE POSTED SPEED LIMIT OF 35 MPH   \n",
       "3  DRIVING VEH. W/O ADEQUATE REAR REG. PLATE ILLU...   \n",
       "4  DRIVER FAILURE TO OBEY PROPERLY PLACED TRAFFIC...   \n",
       "\n",
       "                            Location   Latitude  Longitude Accident Belts  \\\n",
       "0  N FREDERICK AVE / WATKINS MILL RD  39.158662 -77.218887       No    No   \n",
       "1   INDIANOLA DR / CRABBS BRANCH WAY  39.114683 -77.156545       No    No   \n",
       "2           RIVER RD / BRAEBURN PKWY  38.978577 -77.130873       No    No   \n",
       "3          PARKLAWN DR / RANDOLPH RD  39.053620 -77.107472       No    No   \n",
       "4          POOKS HILL RD / LINDEN LA  39.013237 -77.106553       No    No   \n",
       "\n",
       "  Personal Injury Property Damage Fatal Commercial License HAZMAT  \\\n",
       "0              No              No    No                 No     No   \n",
       "1              No              No    No                 No     No   \n",
       "2              No              No    No                 No     No   \n",
       "3              No              No    No                 No     No   \n",
       "4              No              No    No                 No     No   \n",
       "\n",
       "  Commercial Vehicle Alcohol Work Zone State      VehicleType    Year    Make  \\\n",
       "0                 No      No        No    MD  02 - Automobile  2001.0    MERZ   \n",
       "1                 No      No        No    MD  02 - Automobile  2017.0   HONDA   \n",
       "2                 No      No        No    MD  02 - Automobile  2009.0  TOYOTA   \n",
       "3                 No      No        No    MD  02 - Automobile  2013.0    HYUN   \n",
       "4                 No      No        No    MD  02 - Automobile  2011.0   HONDA   \n",
       "\n",
       "     Model   Color Violation Type      Charge                 Article  \\\n",
       "0       4S  SILVER          ESERO         64*                     NaN   \n",
       "1    PILOT   BLACK        Warning   13-411(d)  Transportation Article   \n",
       "2    PRIUS    GRAY        Warning    21-801.1  Transportation Article   \n",
       "3  ELANTRA  SILVER        Warning   22-204(f)  Transportation Article   \n",
       "4       4H     RED        Warning  21-201(a1)  Transportation Article   \n",
       "\n",
       "   Contributed To Accident   Race Gender    Driver City Driver State DL State  \\\n",
       "0                    False  BLACK      F     GERMANTOWN           MD       MD   \n",
       "1                    False  OTHER      F        DERWOOD           MD       MD   \n",
       "2                    False  WHITE      M      ROCKVILLE           MD       MD   \n",
       "3                    False  BLACK      M  SILVER SPRING           MD       MD   \n",
       "4                    False  WHITE      F  SILVER SPRING           MD       MD   \n",
       "\n",
       "         Arrest Type                            Geolocation  \n",
       "0  A - Marked Patrol  (39.1586616666667, -77.2188866666667)  \n",
       "1  A - Marked Patrol         (39.1146833333333, -77.156545)  \n",
       "2  A - Marked Patrol  (38.9785766666667, -77.1308733333333)  \n",
       "3  A - Marked Patrol          (39.05362, -77.1074716666667)  \n",
       "4  A - Marked Patrol  (39.0132366666667, -77.1065533333333)  "
      ]
     },
     "execution_count": 6,
     "metadata": {},
     "output_type": "execute_result"
    }
   ],
   "source": [
    "file.head()"
   ]
  },
  {
   "cell_type": "code",
   "execution_count": 7,
   "metadata": {},
   "outputs": [
    {
     "data": {
      "text/plain": [
       "Date Of Stop                object\n",
       "Time Of Stop                object\n",
       "Agency                      object\n",
       "SubAgency                   object\n",
       "Description                 object\n",
       "Location                    object\n",
       "Latitude                   float64\n",
       "Longitude                  float64\n",
       "Accident                    object\n",
       "Belts                       object\n",
       "Personal Injury             object\n",
       "Property Damage             object\n",
       "Fatal                       object\n",
       "Commercial License          object\n",
       "HAZMAT                      object\n",
       "Commercial Vehicle          object\n",
       "Alcohol                     object\n",
       "Work Zone                   object\n",
       "State                       object\n",
       "VehicleType                 object\n",
       "Year                       float64\n",
       "Make                        object\n",
       "Model                       object\n",
       "Color                       object\n",
       "Violation Type              object\n",
       "Charge                      object\n",
       "Article                     object\n",
       "Contributed To Accident       bool\n",
       "Race                        object\n",
       "Gender                      object\n",
       "Driver City                 object\n",
       "Driver State                object\n",
       "DL State                    object\n",
       "Arrest Type                 object\n",
       "Geolocation                 object\n",
       "dtype: object"
      ]
     },
     "execution_count": 7,
     "metadata": {},
     "output_type": "execute_result"
    }
   ],
   "source": [
    "file.dtypes"
   ]
  },
  {
   "cell_type": "code",
   "execution_count": 8,
   "metadata": {
    "scrolled": true
   },
   "outputs": [
    {
     "data": {
      "text/plain": [
       "Date Of Stop               0.00\n",
       "Time Of Stop               0.00\n",
       "Agency                     0.00\n",
       "SubAgency                  0.00\n",
       "Description                0.00\n",
       "Location                   0.00\n",
       "Latitude                   0.00\n",
       "Longitude                  0.00\n",
       "Accident                   0.00\n",
       "Belts                      0.00\n",
       "Personal Injury            0.00\n",
       "Property Damage            0.00\n",
       "Fatal                      0.00\n",
       "Commercial License         0.00\n",
       "HAZMAT                     0.00\n",
       "Commercial Vehicle         0.00\n",
       "Alcohol                    0.00\n",
       "Work Zone                  0.00\n",
       "State                      0.00\n",
       "VehicleType                0.00\n",
       "Year                       0.61\n",
       "Make                       0.00\n",
       "Model                      0.01\n",
       "Color                      1.18\n",
       "Violation Type             0.00\n",
       "Charge                     0.00\n",
       "Article                    4.87\n",
       "Contributed To Accident    0.00\n",
       "Race                       0.00\n",
       "Gender                     0.00\n",
       "Driver City                0.02\n",
       "Driver State               0.00\n",
       "DL State                   0.06\n",
       "Arrest Type                0.00\n",
       "Geolocation                0.00\n",
       "dtype: float64"
      ]
     },
     "execution_count": 8,
     "metadata": {},
     "output_type": "execute_result"
    }
   ],
   "source": [
    "round((file.isnull().sum()/file.shape[0])*100,2)"
   ]
  },
  {
   "cell_type": "markdown",
   "metadata": {},
   "source": [
    "#### Null values are less than 1 percent"
   ]
  },
  {
   "cell_type": "code",
   "execution_count": 9,
   "metadata": {},
   "outputs": [],
   "source": [
    "file['Date Of Stop_format'] = file['Date Of Stop'].apply(lambda x: datetime.strptime(x, '%m/%d/%Y'))"
   ]
  },
  {
   "cell_type": "code",
   "execution_count": 10,
   "metadata": {},
   "outputs": [],
   "source": [
    "file.drop(\"Date Of Stop\", axis=1, inplace=True)"
   ]
  },
  {
   "cell_type": "code",
   "execution_count": 11,
   "metadata": {},
   "outputs": [],
   "source": [
    "years=file['Date Of Stop_format'].apply(lambda x: datetime.strftime(x, \"%Y\"))"
   ]
  },
  {
   "cell_type": "code",
   "execution_count": 12,
   "metadata": {},
   "outputs": [
    {
     "data": {
      "text/plain": [
       "array(['2019', '2018', '2017', '2016', '2015', '2014', '2013', '2012'],\n",
       "      dtype=object)"
      ]
     },
     "execution_count": 12,
     "metadata": {},
     "output_type": "execute_result"
    }
   ],
   "source": [
    "years.unique()"
   ]
  },
  {
   "cell_type": "markdown",
   "metadata": {},
   "source": [
    "### We have data from 2012 to till date"
   ]
  },
  {
   "cell_type": "markdown",
   "metadata": {},
   "source": [
    "### Spliting data based on the year"
   ]
  },
  {
   "cell_type": "code",
   "execution_count": 13,
   "metadata": {},
   "outputs": [],
   "source": [
    "df12=file[(file['Date Of Stop_format']> \"2011-12-31\") & (file['Date Of Stop_format']<\"2013-01-01\")].copy()\n",
    "df13=file[(file['Date Of Stop_format']> \"2012-12-31\") & (file['Date Of Stop_format']<\"2014-01-01\")].copy()\n",
    "df14=file[(file['Date Of Stop_format']> \"2013-12-31\") & (file['Date Of Stop_format']<\"2015-01-01\")].copy()\n",
    "df15=file[(file['Date Of Stop_format']> \"2014-12-31\") & (file['Date Of Stop_format']<\"2016-01-01\")].copy()\n",
    "df16=file[(file['Date Of Stop_format']> \"2015-12-31\") & (file['Date Of Stop_format']<\"2017-01-01\")].copy()\n",
    "df17=file[(file['Date Of Stop_format']> \"2016-12-31\") & (file['Date Of Stop_format']<\"2018-01-01\")].copy()\n",
    "df18=file[(file['Date Of Stop_format']> \"2017-12-31\") & (file['Date Of Stop_format']<\"2019-01-01\")].copy()\n",
    "df19=file[(file['Date Of Stop_format']> \"2018-12-31\") & (file['Date Of Stop_format']<\"2020-01-01\")].copy()"
   ]
  },
  {
   "cell_type": "markdown",
   "metadata": {},
   "source": [
    "df12.to_csv('Traffic_violations_12.csv',index=False)\n",
    "df13.to_csv('Traffic_violations_13.csv',index=False)\n",
    "df14.to_csv('Traffic_violations_14.csv',index=False)\n",
    "df15.to_csv('Traffic_violations_15.csv',index=False)\n",
    "df16.to_csv('Traffic_violations_16.csv',index=False)\n",
    "df17.to_csv('Traffic_violations_17.csv',index=False)\n",
    "df18.to_csv('Traffic_violations_18.csv',index=False)\n",
    "df19.to_csv('Traffic_violations_19.csv',index=False)"
   ]
  },
  {
   "cell_type": "markdown",
   "metadata": {},
   "source": [
    "### Sampling"
   ]
  },
  {
   "cell_type": "code",
   "execution_count": 14,
   "metadata": {},
   "outputs": [],
   "source": [
    "sample_of_2012     = df12.sample(frac=0.1,random_state=100,axis=0)\n",
    "sample_of_2013     = df13.sample(frac=0.1,random_state=100,axis=0)\n",
    "sample_of_2014     = df14.sample(frac=0.1,random_state=100,axis=0)\n",
    "sample_of_2015     = df15.sample(frac=0.1,random_state=100,axis=0)\n",
    "sample_of_2016     = df16.sample(frac=0.1,random_state=100,axis=0)\n",
    "sample_of_2017     = df17.sample(frac=0.1,random_state=100,axis=0)\n",
    "sample_of_2018     = df18.sample(frac=0.1,random_state=100,axis=0)\n",
    "sample_of_2019     = df19.sample(frac=0.1,random_state=100,axis=0)"
   ]
  },
  {
   "cell_type": "code",
   "execution_count": 15,
   "metadata": {},
   "outputs": [],
   "source": [
    "sample = pd.concat([sample_of_2012,sample_of_2013,sample_of_2014,\n",
    "sample_of_2015,sample_of_2016,sample_of_2017,sample_of_2018,sample_of_2019],axis=0,ignore_index=True)"
   ]
  },
  {
   "cell_type": "code",
   "execution_count": 16,
   "metadata": {},
   "outputs": [
    {
     "data": {
      "text/plain": [
       "(158175, 35)"
      ]
     },
     "execution_count": 16,
     "metadata": {},
     "output_type": "execute_result"
    }
   ],
   "source": [
    "sample.shape"
   ]
  },
  {
   "cell_type": "code",
   "execution_count": 17,
   "metadata": {},
   "outputs": [],
   "source": [
    "import scipy.stats as stats"
   ]
  },
  {
   "cell_type": "markdown",
   "metadata": {},
   "source": [
    "#### Accident - Test of proportion"
   ]
  },
  {
   "cell_type": "code",
   "execution_count": 18,
   "metadata": {},
   "outputs": [
    {
     "name": "stdout",
     "output_type": "stream",
     "text": [
      "-1.959963984540054 1.959963984540054\n",
      " z-stat = -0.0003333279115861409 \n",
      " p-value = 0.9997340428105856\n",
      "Since the P-value is greater than the significance level (0.05), we are fail to reject the null hypothesis.\n"
     ]
    }
   ],
   "source": [
    "x1 = file[file['Accident']=='Yes']['Accident'].value_counts()[0]/len(file)\n",
    "x2 = sample[sample['Accident']=='Yes']['Accident'].value_counts()[0]/len(sample)\n",
    "# implementation ztest_proportion_two_classes\n",
    "def ztest_proportion_two_classes(x1, n1, x2, n2, one_sided=False):\n",
    "    p1 = x1/n1\n",
    "    p2 = x2/n2    \n",
    "\n",
    "    p = (x1*n1+x2*n2)/(n1+n2)    #Pooled sample proportion\n",
    "    se = p*(1-p)*(1/n1+1/n2)\n",
    "    se = np.sqrt(se)\n",
    "    \n",
    "    z = (p1-p2)/se   #Test statistic\n",
    "    \n",
    "    LCI, UCI = stats.norm.interval(0.95) \n",
    "    print(LCI,UCI)\n",
    "    \n",
    "    p = 1-stats.norm.cdf(abs(z))\n",
    "    p *= 2-one_sided # if not one_sided: p *= 2\n",
    "    return z, p\n",
    "\n",
    "z,p = ztest_proportion_two_classes(x1, len(file), x2, len(sample), one_sided=False)\n",
    "print(' z-stat = {z} \\n p-value = {p}'.format(z=z,p=p))\n",
    "\n",
    "print('Since the P-value is greater than the significance level (0.05), we are fail to reject the null hypothesis.')"
   ]
  },
  {
   "cell_type": "markdown",
   "metadata": {},
   "source": [
    "#### Property Damage - Test of proportion"
   ]
  },
  {
   "cell_type": "code",
   "execution_count": 19,
   "metadata": {},
   "outputs": [
    {
     "name": "stdout",
     "output_type": "stream",
     "text": [
      "-1.959963984540054 1.959963984540054\n",
      " z-stat = -0.0002939929646562065 \n",
      " p-value = 0.9997654275558951\n",
      "Since the P-value is greater than the significance level (0.05), we are fail to reject the null hypothesis.\n"
     ]
    }
   ],
   "source": [
    "x1 = file[file['Property Damage']=='Yes']['Property Damage'].value_counts()[0]/len(file)\n",
    "x2 = sample[sample['Property Damage']=='Yes']['Property Damage'].value_counts()[0]/len(sample)\n",
    "# implementation ztest_proportion_two_classes\n",
    "def ztest_proportion_two_classes(x1, n1, x2, n2, one_sided=False):\n",
    "    p1 = x1/n1\n",
    "    p2 = x2/n2    \n",
    "\n",
    "    p = (x1*n1+x2*n2)/(n1+n2)    #Pooled sample proportion\n",
    "    se = p*(1-p)*(1/n1+1/n2)\n",
    "    se = np.sqrt(se)\n",
    "    \n",
    "    z = (p1-p2)/se   #Test statistic\n",
    "    \n",
    "    LCI, UCI = stats.norm.interval(0.95) \n",
    "    print(LCI,UCI)\n",
    "    \n",
    "    p = 1-stats.norm.cdf(abs(z))\n",
    "    p *= 2-one_sided # if not one_sided: p *= 2\n",
    "    return z, p\n",
    "\n",
    "z,p = ztest_proportion_two_classes(x1, len(file), x2, len(sample), one_sided=False)\n",
    "print(' z-stat = {z} \\n p-value = {p}'.format(z=z,p=p))\n",
    "\n",
    "print('Since the P-value is greater than the significance level (0.05), we are fail to reject the null hypothesis.')"
   ]
  },
  {
   "cell_type": "markdown",
   "metadata": {},
   "source": [
    "####   Violation Type - Test of proportion"
   ]
  },
  {
   "cell_type": "code",
   "execution_count": 20,
   "metadata": {},
   "outputs": [
    {
     "name": "stdout",
     "output_type": "stream",
     "text": [
      "-1.959963984540054 1.959963984540054\n",
      " z-stat = -0.002163107456595316 \n",
      " p-value = 0.998274091302956\n",
      "Since the P-value is greater than the significance level (0.05), we are fail to reject the null hypothesis.\n"
     ]
    }
   ],
   "source": [
    "x1 = file[file['Violation Type']=='Warning']['Violation Type'].value_counts()[0]/len(file)\n",
    "x2 = sample[sample['Violation Type']=='Warning']['Violation Type'].value_counts()[0]/len(sample)\n",
    "# implementation ztest_proportion_two_classes\n",
    "def ztest_proportion_two_classes(x1, n1, x2, n2, one_sided=False):\n",
    "    p1 = x1/n1\n",
    "    p2 = x2/n2    \n",
    "\n",
    "    p = (x1*n1+x2*n2)/(n1+n2)    #Pooled sample proportion\n",
    "    se = p*(1-p)*(1/n1+1/n2)\n",
    "    se = np.sqrt(se)\n",
    "    \n",
    "    z = (p1-p2)/se   #Test statistic\n",
    "    \n",
    "    LCI, UCI = stats.norm.interval(0.95) \n",
    "    print(LCI,UCI)\n",
    "    \n",
    "    p = 1-stats.norm.cdf(abs(z))\n",
    "    p *= 2-one_sided # if not one_sided: p *= 2\n",
    "    return z, p\n",
    "\n",
    "z,p = ztest_proportion_two_classes(x1, len(file), x2, len(sample), one_sided=False)\n",
    "print(' z-stat = {z} \\n p-value = {p}'.format(z=z,p=p))\n",
    "\n",
    "print('Since the P-value is greater than the significance level (0.05), we are fail to reject the null hypothesis.')"
   ]
  },
  {
   "cell_type": "code",
   "execution_count": 37,
   "metadata": {},
   "outputs": [],
   "source": [
    "sample.to_csv('Traffic_violations_sample.csv',index=False)"
   ]
  },
  {
   "cell_type": "code",
   "execution_count": null,
   "metadata": {},
   "outputs": [],
   "source": []
  }
 ],
 "metadata": {
  "kernelspec": {
   "display_name": "Python 3",
   "language": "python",
   "name": "python3"
  },
  "language_info": {
   "codemirror_mode": {
    "name": "ipython",
    "version": 3
   },
   "file_extension": ".py",
   "mimetype": "text/x-python",
   "name": "python",
   "nbconvert_exporter": "python",
   "pygments_lexer": "ipython3",
   "version": "3.7.3"
  }
 },
 "nbformat": 4,
 "nbformat_minor": 2
}
